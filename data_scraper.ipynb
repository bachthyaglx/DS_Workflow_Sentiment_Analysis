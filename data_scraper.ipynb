{
 "cells": [
  {
   "cell_type": "markdown",
   "id": "957acc62",
   "metadata": {},
   "source": [
    "# 1. Web-scrapping data on youtube"
   ]
  },
  {
   "cell_type": "code",
   "execution_count": 55,
   "id": "1c41863a",
   "metadata": {},
   "outputs": [],
   "source": [
    "import time\n",
    "import pandas as pd\n",
    "from bs4 import BeautifulSoup as bs\n",
    "from selenium import webdriver\n",
    "from selenium.webdriver import Chrome\n",
    "from selenium.webdriver.common.by import By\n",
    "from selenium.webdriver.common.keys import Keys\n",
    "from selenium.webdriver.support.ui import WebDriverWait, Select\n",
    "from selenium.webdriver.common.action_chains import ActionChains\n",
    "from selenium.webdriver.support import expected_conditions as EC\n",
    "from selenium.webdriver.chrome.service import Service"
   ]
  },
  {
   "cell_type": "code",
   "execution_count": 56,
   "id": "bbe7ce37",
   "metadata": {},
   "outputs": [],
   "source": [
    "# Define url where data is scrapped\n",
    "url = \"https://www.youtube.com/watch?v=zIwLWfaAg-8\" #--> epic split ad"
   ]
  },
  {
   "cell_type": "code",
   "execution_count": 57,
   "id": "638e49d7",
   "metadata": {},
   "outputs": [],
   "source": [
    "# Initialize browser to be controlled by Selenium\n",
    "serv = Service(executable_path=\"chromedriver-win64\\\\chromedriver.exe\")\n",
    "opts = webdriver.ChromeOptions()\n",
    "driver = webdriver.Chrome(service=serv, options=opts)\n",
    "driver.get(url)\n",
    "time.sleep(2)"
   ]
  },
  {
   "cell_type": "code",
   "execution_count": 58,
   "id": "5eed6958",
   "metadata": {},
   "outputs": [],
   "source": [
    "# Accept terms and conditions\n",
    "find_terms_accept = driver.find_elements(By.XPATH,\"//button[@class='yt-spec-button-shape-next yt-spec-button-shape-next--filled yt-spec-button-shape-next--mono yt-spec-button-shape-next--size-m' and contains(@aria-label,'Accept the use of cookies and other data for the purposes described')]\") \n",
    "find_terms_accept[0].click() \n",
    "time.sleep(2)\n",
    "\n",
    "# Pause the video --> adapt this code to your local language!!!\n",
    "find_pause = driver.find_elements(By.XPATH,\"//button[@class='ytp-play-button ytp-button'][@data-title-no-tooltip='Pause']\") \n",
    "find_pause[0].click()\n",
    "time.sleep(2)"
   ]
  },
  {
   "cell_type": "markdown",
   "id": "cb324b46",
   "metadata": {},
   "source": [
    "#### Collect meta data "
   ]
  },
  {
   "cell_type": "code",
   "execution_count": 60,
   "id": "bf5832cc",
   "metadata": {},
   "outputs": [
    {
     "name": "stdout",
     "output_type": "stream",
     "text": [
      "\n"
     ]
    }
   ],
   "source": [
    "# Click show more button\n",
    "btn = driver.find_elements(By.XPATH,\"//tp-yt-paper-button[@class='button style-scope ytd-text-inline-expander']\")\n",
    "btn[1].click()"
   ]
  },
  {
   "cell_type": "code",
   "execution_count": 61,
   "id": "324d18ba",
   "metadata": {},
   "outputs": [
    {
     "name": "stdout",
     "output_type": "stream",
     "text": [
      "TED\n"
     ]
    }
   ],
   "source": [
    "# Publisher\n",
    "find = driver.find_elements(By.XPATH,\"//yt-formatted-string[@class='style-scope ytd-channel-name complex-string']\") \n",
    "publisher = find[0].text\n",
    "print(publisher)"
   ]
  },
  {
   "cell_type": "code",
   "execution_count": 62,
   "id": "cf2e85a5",
   "metadata": {},
   "outputs": [
    {
     "name": "stdout",
     "output_type": "stream",
     "text": [
      "24.6M subscribers\n"
     ]
    }
   ],
   "source": [
    "# Subscribers\n",
    "find = driver.find_elements(By.XPATH,\"//yt-formatted-string[@class='style-scope ytd-video-owner-renderer']\")\n",
    "subscribers = find[0].text\n",
    "print(subscribers)"
   ]
  },
  {
   "cell_type": "code",
   "execution_count": 63,
   "id": "67053a6f",
   "metadata": {},
   "outputs": [
    {
     "name": "stdout",
     "output_type": "stream",
     "text": [
      "Elon Musk: The future we're building -- and boring | TED\n"
     ]
    }
   ],
   "source": [
    "# meta-data: title\n",
    "find_title = driver.find_elements(By.XPATH,\"//yt-formatted-string[@class='style-scope ytd-watch-metadata']\")\n",
    "title = find_title[0].text\n",
    "print(title)"
   ]
  },
  {
   "cell_type": "code",
   "execution_count": 64,
   "id": "c830447e",
   "metadata": {},
   "outputs": [
    {
     "name": "stdout",
     "output_type": "stream",
     "text": [
      "26,076,503 views\n",
      "3 May 2017\n"
     ]
    }
   ],
   "source": [
    "# meta-data: views, publish date\n",
    "find_views_pubdate = driver.find_elements(By.XPATH,\"//span[@class='style-scope yt-formatted-string bold']\")\n",
    "views = find_views_pubdate[0].text\n",
    "print(views)\n",
    "\n",
    "pub_date = find_views_pubdate[2].text\n",
    "print(pub_date)"
   ]
  },
  {
   "cell_type": "code",
   "execution_count": 65,
   "id": "7b3eb117",
   "metadata": {},
   "outputs": [
    {
     "name": "stdout",
     "output_type": "stream",
     "text": [
      "Elon Musk discusses his new project digging tunnels under LA, the latest from Tesla and SpaceX and his motivation for building a future on Mars in conversation with TED's Head Curator, Chris Anderson.\n",
      "\n",
      "Visit http://TED.com to get our entire library of TED Talks, transcripts, translations, personalized talk recommendations and more.\n",
      "\n",
      "The TED Talks channel features the best talks and performances from the TED Conference, where the world's leading thinkers and doers give the talk of their lives in 18 minutes (or less). Look for talks on Technology, Entertainment and Design -- plus science, business, global issues, the arts and more. You're welcome to link to or embed these videos, forward them to others and share these ideas with people you know. \n",
      "\n",
      "Become a TED Member: http://ted.com/membership\n",
      "Follow TED on Twitter:   / tedtalks  \n",
      "Like TED on Facebook:   / ted  \n",
      "Subscribe to our channel:    / ted  \n",
      "\n",
      "TED's videos may be used for non-commercial purposes under a Creative Commons License, Attribution–Non Commercial–No Derivatives (or the CC BY – NC – ND 4.0 International) and in accordance with our TED Talks Usage Policy (https://www.ted.com/about/our-organiz.... For more information on using TED for commercial purposes (e.g. employee learning, in a film or online course), please submit a Media Request at https://media-requests.ted.com\n"
     ]
    }
   ],
   "source": [
    "# Description\n",
    "find = driver.find_elements(By.XPATH,\"//yt-attributed-string[@class='style-scope ytd-text-inline-expander']\")\n",
    "description_txt = find[0].text\n",
    "print(description_txt)"
   ]
  },
  {
   "cell_type": "code",
   "execution_count": 66,
   "id": "4c34bfc6",
   "metadata": {},
   "outputs": [
    {
     "name": "stdout",
     "output_type": "stream",
     "text": [
      "25,128 Comments\n"
     ]
    }
   ],
   "source": [
    "# Scroll down to load comments\n",
    "driver.execute_script(\"window.scrollTo(0, document.documentElement.scrollHeight);\")\n",
    "time.sleep(5)  # Wait for the comments to load\n",
    "\n",
    "# Get number of comments\n",
    "wait = WebDriverWait(driver, 20)\n",
    "comments_section = wait.until(\n",
    "    EC.presence_of_element_located((By.XPATH, '//yt-formatted-string[@class=\"count-text style-scope ytd-comments-header-renderer\"]'))\n",
    ")\n",
    "cmts_count = comments_section.text\n",
    "print(cmts_count)"
   ]
  },
  {
   "cell_type": "code",
   "execution_count": 67,
   "id": "3b19f2b1",
   "metadata": {},
   "outputs": [
    {
     "name": "stdout",
     "output_type": "stream",
     "text": [
      "like this video along with 388,996 other people 388K\n"
     ]
    }
   ],
   "source": [
    "# Get number of Likes\n",
    "find_likes = driver.find_elements(By.XPATH,\"//button[@class='yt-spec-button-shape-next yt-spec-button-shape-next--tonal yt-spec-button-shape-next--mono yt-spec-button-shape-next--size-m yt-spec-button-shape-next--icon-leading yt-spec-button-shape-next--segmented-start']\")\n",
    "likes = find_likes[0].get_attribute(\"aria-label\")\n",
    "print(f'{likes} {find_likes[0].text}')"
   ]
  },
  {
   "cell_type": "code",
   "execution_count": 68,
   "id": "b93d36f8",
   "metadata": {},
   "outputs": [
    {
     "name": "stdout",
     "output_type": "stream",
     "text": [
      "                                                           Value\n",
      "Publisher                                                    TED\n",
      "Subscriptions                                  24.6M subscribers\n",
      "Title          Elon Musk: The future we're building -- and bo...\n",
      "Views                                           26,076,503 views\n",
      "Publish date                                          3 May 2017\n",
      "Description    Elon Musk discusses his new project digging tu...\n",
      "Comments                                         25,128 Comments\n",
      "Likes            like this video along with 388,996 other people\n"
     ]
    }
   ],
   "source": [
    "## Tidy up scraped content\n",
    "this_row = pd.DataFrame(publisher,index=['Publisher'],columns=['Value'])\n",
    "\n",
    "new_row = pd.DataFrame(subscribers,index=['Subscriptions'],columns=['Value'])\n",
    "this_row = pd.concat([this_row,new_row])\n",
    "\n",
    "new_row = pd.DataFrame(title,index=['Title'],columns=['Value'])\n",
    "this_row = pd.concat([this_row,new_row])\n",
    "\n",
    "new_row = pd.DataFrame(views,index=['Views'],columns=['Value'])\n",
    "this_row = pd.concat([this_row,new_row])\n",
    "\n",
    "new_row = pd.DataFrame(pub_date,index=['Publish date'],columns=['Value'])\n",
    "this_row = pd.concat([this_row,new_row])\n",
    "new_row = pd.DataFrame(description_txt,index=['Description'],columns=['Value'])\n",
    "this_row = pd.concat([this_row,new_row])\n",
    "new_row = pd.DataFrame(cmts_count,index=['Comments'],columns=['Value'])\n",
    "this_row = pd.concat([this_row,new_row])\n",
    "new_row = pd.DataFrame(likes,index=['Likes'],columns=['Value'])\n",
    "this_row = pd.concat([this_row,new_row])\n",
    "\n",
    "meta_df = this_row\n",
    "print(meta_df)"
   ]
  },
  {
   "cell_type": "markdown",
   "id": "90faa2e3",
   "metadata": {},
   "source": [
    "# Setup for comments"
   ]
  },
  {
   "cell_type": "code",
   "execution_count": 69,
   "id": "0b47fafc",
   "metadata": {},
   "outputs": [],
   "source": [
    "# Sort by our choice\n",
    "# Click \"Sort by\" to open a dropdown menu\n",
    "btn = WebDriverWait(driver, 10).until(\n",
    "    EC.element_to_be_clickable((By.XPATH, \"//div[@id='icon-label'][text()='Sort by']\"))\n",
    ")\n",
    "\n",
    "# Navigate \"Top comments\", use ActionChains to move to the element\n",
    "driver.execute_script(\"arguments[0].scrollIntoView(true);\", btn)\n",
    "actions = ActionChains(driver)\n",
    "actions.move_to_element(btn).perform()\n",
    "\n",
    "# Click the element \n",
    "driver.execute_script(\"arguments[0].click();\", btn)"
   ]
  },
  {
   "cell_type": "markdown",
   "id": "c1eb74fe",
   "metadata": {},
   "source": [
    "# Opening replies"
   ]
  },
  {
   "cell_type": "code",
   "execution_count": 70,
   "id": "518d81c9",
   "metadata": {},
   "outputs": [
    {
     "name": "stdout",
     "output_type": "stream",
     "text": [
      "Run 1\n",
      "Opening all reply buttons found\n",
      "How many reply buttons were found: 30\n",
      "Run 2\n",
      "Opening all reply buttons found\n",
      "How many reply buttons were found: 54\n",
      "Run 3\n",
      "Opening all reply buttons found\n",
      "How many reply buttons were found: 82\n",
      "Run 4\n",
      "Opening all reply buttons found\n",
      "How many reply buttons were found: 102\n",
      "Run 5\n",
      "Opening all reply buttons found\n",
      "How many reply buttons were found: 126\n",
      "Run 6\n",
      "Opening all reply buttons found\n",
      "How many reply buttons were found: 144\n",
      "Run 7\n",
      "Opening all reply buttons found\n",
      "How many reply buttons were found: 164\n",
      "Run 8\n",
      "Opening all reply buttons found\n",
      "How many reply buttons were found: 186\n",
      "Run 9\n",
      "Opening all reply buttons found\n",
      "How many reply buttons were found: 206\n",
      "Run 10\n",
      "Opening all reply buttons found\n",
      "How many reply buttons were found: 226\n",
      "Run 11\n",
      "Opening all reply buttons found\n",
      "How many reply buttons were found: 246\n",
      "Run 12\n",
      "Opening all reply buttons found\n",
      "How many reply buttons were found: 246\n",
      "Run 13\n",
      "Opening all reply buttons found\n",
      "How many reply buttons were found: 246\n",
      "Run 14\n",
      "Opening all reply buttons found\n",
      "How many reply buttons were found: 246\n",
      "Run 15\n",
      "Opening all reply buttons found\n",
      "How many reply buttons were found: 246\n",
      "Run 16\n",
      "Opening all reply buttons found\n",
      "How many reply buttons were found: 246\n",
      "Run 17\n",
      "Opening all reply buttons found\n",
      "How many reply buttons were found: 246\n",
      "Run 18\n",
      "Opening all reply buttons found\n",
      "How many reply buttons were found: 246\n",
      "Run 19\n",
      "Opening all reply buttons found\n",
      "How many reply buttons were found: 246\n",
      "Run 20\n",
      "Opening all reply buttons found\n",
      "How many reply buttons were found: 246\n",
      "Run 21\n",
      "Opening all reply buttons found\n",
      "How many reply buttons were found: 246\n",
      "Run 22\n",
      "Opening all reply buttons found\n",
      "How many reply buttons were found: 246\n",
      "Run 23\n",
      "Opening all reply buttons found\n",
      "How many reply buttons were found: 246\n",
      "Run 24\n",
      "Opening all reply buttons found\n",
      "How many reply buttons were found: 246\n",
      "Run 25\n",
      "Opening all reply buttons found\n",
      "How many reply buttons were found: 246\n",
      "Run 26\n",
      "Opening all reply buttons found\n",
      "How many reply buttons were found: 246\n",
      "Run 27\n",
      "Opening all reply buttons found\n",
      "How many reply buttons were found: 246\n",
      "Run 28\n",
      "Opening all reply buttons found\n",
      "How many reply buttons were found: 246\n",
      "Run 29\n",
      "Opening all reply buttons found\n",
      "How many reply buttons were found: 246\n",
      "Run 30\n",
      "Opening all reply buttons found\n",
      "How many reply buttons were found: 246\n",
      "Run 31\n",
      "Opening all reply buttons found\n",
      "How many reply buttons were found: 246\n",
      "Run 32\n",
      "Opening all reply buttons found\n",
      "How many reply buttons were found: 246\n",
      "Run 33\n",
      "Opening all reply buttons found\n",
      "How many reply buttons were found: 246\n",
      "Run 34\n",
      "Opening all reply buttons found\n",
      "How many reply buttons were found: 246\n",
      "Run 35\n",
      "Opening all reply buttons found\n",
      "How many reply buttons were found: 246\n",
      "Run 36\n",
      "Opening all reply buttons found\n",
      "How many reply buttons were found: 246\n",
      "Run 37\n",
      "Opening all reply buttons found\n",
      "How many reply buttons were found: 246\n",
      "Run 38\n",
      "Opening all reply buttons found\n",
      "How many reply buttons were found: 246\n",
      "Run 39\n",
      "Opening all reply buttons found\n",
      "How many reply buttons were found: 246\n",
      "Run 40\n",
      "Opening all reply buttons found\n",
      "How many reply buttons were found: 246\n",
      "Run 41\n",
      "Opening all reply buttons found\n",
      "How many reply buttons were found: 246\n",
      "Run 42\n",
      "Opening all reply buttons found\n",
      "How many reply buttons were found: 246\n",
      "Run 43\n",
      "Opening all reply buttons found\n",
      "How many reply buttons were found: 246\n",
      "Run 44\n",
      "Opening all reply buttons found\n",
      "How many reply buttons were found: 246\n",
      "Run 45\n",
      "Opening all reply buttons found\n",
      "How many reply buttons were found: 246\n",
      "Run 46\n",
      "Opening all reply buttons found\n",
      "How many reply buttons were found: 246\n",
      "Run 47\n",
      "Opening all reply buttons found\n",
      "How many reply buttons were found: 246\n",
      "Run 48\n",
      "Opening all reply buttons found\n",
      "How many reply buttons were found: 246\n",
      "Run 49\n",
      "Opening all reply buttons found\n",
      "How many reply buttons were found: 246\n",
      "Run 50\n",
      "Opening all reply buttons found\n",
      "How many reply buttons were found: 246\n"
     ]
    }
   ],
   "source": [
    "# How many times should it find all the reply buttons and open them\n",
    "n_runs = 50\n",
    "\n",
    "for run_nr in range(n_runs):\n",
    "    # Find all reply buttons\n",
    "    reply_btn = driver.find_elements(By.XPATH, \".//ytd-button-renderer[contains(@class, 'replies')]\")\n",
    "    print(f\"Run {run_nr + 1}\")\n",
    "    print(\"Opening all reply buttons found\")\n",
    "    print(f\"How many reply buttons were found: {len(reply_btn)}\")\n",
    "    \n",
    "    # Only every second element is an actual button\n",
    "    reply_btn = reply_btn[::2] \n",
    "\n",
    "    # Find first non null element\n",
    "    for i in range(len(reply_btn)):\n",
    "        if reply_btn[i].text != \"\":\n",
    "            start_index = i\n",
    "            break\n",
    "        \n",
    "    # Open all reply buttons\n",
    "    for i in range(start_index, len(reply_btn)):\n",
    "        try:\n",
    "            reply_btn[i].click()\n",
    "        except:\n",
    "            continue\n",
    "        time.sleep(2)\n",
    "        html = driver.find_element(By.TAG_NAME, 'html')\n",
    "        html.send_keys(Keys.PAGE_DOWN)\n",
    "        time.sleep(2)\n",
    "        \n",
    "        # Click show more button unless there is none\n",
    "        while True:\n",
    "            show_more_btn = driver.find_elements(By.XPATH, \"//button[@aria-label='Show more replies']\")\n",
    "            if len(show_more_btn) == 0:\n",
    "                break\n",
    "            try:\n",
    "                show_more_btn[0].click()\n",
    "            except:\n",
    "                continue\n",
    "            time.sleep(2)"
   ]
  },
  {
   "cell_type": "markdown",
   "id": "cc06374a",
   "metadata": {},
   "source": [
    "# Scraping username, number of likes and comments"
   ]
  },
  {
   "cell_type": "code",
   "execution_count": 71,
   "id": "28e7c5d4",
   "metadata": {},
   "outputs": [
    {
     "name": "stdout",
     "output_type": "stream",
     "text": [
      "['@raedjah6417\\n4 years ago', '@jg63776\\n4 years ago', '@thatguynicky1979\\n4 years ago', '@ibeezisi3847\\n4 years ago', '@leyren2606\\n4 years ago (edited)', '@ClaireYunFarronXIII\\n4 years ago (edited)', '@Butterpants1987\\n4 years ago', '@shoaibhuq8472\\n4 years ago (edited)', '@alikhan-uh3sq\\n4 years ago', '@LunarXZ_\\n4 years ago', '@bambitazilla9464\\n4 years ago (edited)', '@theviralmemes7101\\n4 years ago', '@alinktoth389\\n4 years ago', '@MusicInfected\\n4 years ago', '@yougotta2505\\n4 years ago', '@DAVIDDESIGN88\\n4 years ago', '@DAVIDDESIGN88\\n4 years ago', '@aren1998\\n4 years ago', '@kcb5989\\n4 years ago', '@BharathKumar-uu3fs\\n4 years ago', '@polpol1005\\n2 years ago', '@junayED.\\n2 years ago', '@polpol1005\\n2 years ago (edited)', '@samnova4335\\n2 years ago', '@martinkabagambe3271\\n2 years ago (edited)', '@aadeshnayak.baravo9997\\n2 years ago', '@lordofnight9377\\n2 years ago', '@roslyntaber9580\\n2 years ago', '@teresawilliamson9377\\n2 years ago', '@teresawilliamson9377\\n2 years ago', '@teresawilliamson9377\\n2 years ago', '@teresawilliamson9377\\n2 years ago', '@aktyvator\\n2 years ago', '@danielkubicek9108\\n2 years ago', '@rosscoldrick9518\\n5 years ago (edited)', '@briandiehl9257\\n5 years ago', '@kensho2157\\n5 years ago', '@augustus331\\n5 years ago', '@augustus331\\n5 years ago (edited)', '@panjo1576\\n5 years ago', '@liamwalton4183\\n5 years ago', '@Thegooob95\\n5 years ago', '@patelmegh09\\n4 years ago', '@johntheux9238\\n4 years ago (edited)', '@Veggamattic\\n4 years ago', '@studioredband2686\\n4 years ago', '@deborahbaca1345\\n4 years ago', '@jamesdumouchel1286\\n4 years ago', '@neanda\\n4 years ago (edited)', '@anthonybarszczewski4219\\n4 years ago', '@truthside5793\\n4 years ago', '@eurasiaennezahard8006\\n4 years ago', '@weedingaloud7891\\n4 years ago', '@felixnuwahid9879\\n4 years ago', '@lxrdxrist\\n4 years ago', '@ImLuigii_\\n4 years ago', '@bings3197\\n4 years ago', '@coltrenclark75\\n4 years ago', '@danischdynamite\\n4 years ago', '@janarts8931\\n4 years ago', '@thenightjackal8876\\n4 years ago', '@erivanjunior9368\\n4 years ago', '@Coldbreezed\\n4 years ago', '@rachhenlr7925\\n4 years ago', '@mlc4495\\n4 years ago', '@thinkright9350\\n4 years ago', '@foblobster8685\\n4 years ago', '@shash_wut\\n4 years ago', '@kevynduran2659\\n4 years ago', '@stork01\\n4 years ago', '@josephfield6903\\n4 years ago', '@animeloverjohn8105\\n4 years ago', '@EmmanuelSakwa\\n4 years ago', '@skipperofschool8325\\n4 years ago', '@malikt1966\\n4 years ago', '@skipperofschool8325\\n4 years ago', '@Joey_Stylez\\n4 years ago', '@cruisermax\\n4 years ago', '@Jake-lf5yt\\n4 years ago', '@lex6709\\n4 years ago', '@BlahBlah-ut4fc\\n4 years ago', '@reverse1186\\n4 years ago', '@Aldarux\\n4 years ago', '@AMERICAEXTREMO\\n4 years ago', '@bubzzyfn7269\\n4 years ago', '@vanishasingh20\\n4 years ago', '@a_mawien6310\\n4 years ago', '@ajjones2064\\n4 years ago', '@ajjones2064\\n4 years ago', '@ajjones2064\\n4 years ago', '@ajjones2064\\n4 years ago', '@ajjones2064\\n4 years ago', '@ajjones2064\\n4 years ago', '@ajjones2064\\n4 years ago', '@ajjones2064\\n4 years ago', '@user-xf2wg5re8j\\n4 years ago', '@susancheah5364\\n4 years ago', '@viv1593\\n4 years ago', '@thelastamericansquaw7054\\n4 years ago', '@khalidchoua\\n4 years ago', '@dancindebs1\\n4 years ago', '@robotec0007\\n4 years ago', '@robotec0007\\n4 years ago', '@Anonymous_UserOrNot\\n4 years ago', '@Anonymous_UserOrNot\\n4 years ago', '@zeynepcelik6091\\n4 years ago', '@thesupreemninja\\n4 years ago', '@Yatukih_001\\n4 years ago', '@Alex2FadedLive\\n4 years ago', '@beazuzmcceasar22\\n4 years ago', '@samarth1200\\n3 years ago', '@user-oo2en8vs2m\\n3 years ago', '@jody024\\n3 years ago', '@naimakyol4754\\n3 years ago', '@manishchaupalofficial\\n3 years ago', '@lumitebin4875\\n3 years ago', '@danskebent1630\\n3 years ago', '@thewatermelon3831\\n3 years ago', '@candicarter4392\\n3 years ago', '@candicarter4392\\n3 years ago', '@caseynathanson7911\\n3 years ago', '@augustus331\\n3 years ago', '@thewatermelon3831\\n3 years ago', '@danielw417\\n3 years ago', '@srmxe417\\n3 years ago', '@NiekKuijpers\\n3 years ago', '@briandiehl9257\\n3 years ago', '@caseynathanson7911\\n3 years ago', '@MariaFernandazz\\n3 years ago', '@aykiriman5256\\n3 years ago', '@alexbecerra1023\\n3 years ago', '@josuardalexgonzales1068\\n3 years ago', '@goldnutter412\\n3 years ago', '@michaeld3102\\n3 years ago', '@tylerimondi4378\\n3 years ago', '@erlindadelacruz5889\\n3 years ago', '@beefycerberus7535\\n3 years ago', '@breaoertel5447\\n3 years ago', '@Laviolette101\\n3 years ago', '@Raj-wf6ln\\n3 years ago', '@spiralpinata6992\\n3 years ago', '@assylkhanovkz\\n3 years ago', '@mormangold2697\\n3 years ago', '@MaRk-vi7nk\\n3 years ago', '@jliaan\\n3 years ago', '@marikafragias5211\\n3 years ago', '@manojchaturvedi1655\\n3 years ago', '@michelewilliams3683\\n3 years ago', '@willdeeny9477\\n3 years ago', '@josephbennion3273\\n3 years ago', '@bavvireal\\n3 years ago', '@polytrelaras1\\n3 years ago', '@Sh-gc8td\\n2 years ago', '@drrydog\\n2 years ago', '@joshiasbaja3934\\n2 years ago', '@pgwar22\\n2 years ago', '@prajvalrao4871\\n2 years ago', '@Footprints1111\\n1 year ago', '@Woodman-Spare-that-tree\\n1 year ago', '@paulmanish7161\\n1 year ago', '@Capt.WillyB\\n1 year ago', '@Rubyeverly-Jessica\\n1 year ago', '@Victoriataylor5668\\n1 year ago', '@anyadni\\n1 year ago', '@Brittany-reeds\\n1 year ago', '@CJ-wright\\n1 year ago', '@deeprajtrpathi\\n1 year ago (edited)', '@Rubyeverly-Jessica\\n1 year ago', '@ddvantandar-kw7kl\\n9 months ago', '@ernestamari8298\\n3 years ago', '@omswaroopudumula4284\\n3 years ago', '@genevievemartinez8475\\n3 years ago', '@gokulkbaburaj2414\\n3 years ago', '@aujlaaujla2454\\n3 years ago', '@tizamusic6168\\n3 years ago', '@cpan2552\\n3 years ago', '@cpan2552\\n3 years ago (edited)', '@yourfellowhumanbeing2323\\n3 years ago', '@Mr.Raven_Poe\\n3 years ago', '@simarpreetsingh6604\\n3 years ago', '@user-ho1vt8vz2l\\n3 years ago', '@dantrixter\\n3 years ago', '@abdelbassetbouteldja9407\\n3 years ago', '@przemekflak7961\\n3 years ago', '@shxnya_\\n3 years ago', '@Uncutwith_Rd\\n3 years ago', '@CalJennings\\n3 years ago', '@Kunalchan196\\n3 years ago', '@johannesmohner8695\\n3 years ago', '@DBT154\\n3 years ago', '@marikabakocs2832\\n3 years ago', '@omkarjoshi3650\\n3 years ago', '@anshad0\\n3 years ago', '@lovememuch5826\\n3 years ago', '@SR-pz3ij\\n3 years ago', '@lovememuch5826\\n3 years ago (edited)', '@JesusChrististheonlyway777\\n3 years ago', '@lovememuch5826\\n3 years ago (edited)', '@Zo-hc2fn\\n3 years ago', '@andrewfazenbaker8210\\n3 years ago', '@hitormisshuh\\n3 years ago', '@warrenhowell6361\\n3 years ago', '@paradigmshatterer7276\\n3 years ago', '@googlekarki1894\\n3 years ago', '@bboyt2\\n3 years ago', '@3dgar7eandro\\n3 years ago', '@squadtv5719\\n3 years ago', '@veronicalyn7906\\n2 years ago', '@codetafoya9763\\n2 years ago', '@thutomoshosho8195\\n2 years ago', '@saracoker5737\\n2 years ago', '@cadams386\\n2 years ago', '@Arabian_Epileptic\\n2 years ago', '@madhuramchaturvedi3605\\n2 years ago', '@edvinparmeza1298\\n2 years ago', '@terrypryor2283\\n2 years ago', '@ashukhan7386\\n2 years ago', '@baclava69\\n2 years ago', '@christinamuggle\\n2 years ago', '@dakshsingh6033\\n2 years ago', '@SoulPunch13\\n2 years ago', '@mateonikolic6984\\n2 years ago', '@swisstrader\\n2 years ago', '@jonski223\\n2 years ago', '@swisscheese8628\\n2 years ago', '@lisa812059\\n2 years ago', '@ChaosBW\\n2 years ago', '@selvin8083\\n2 years ago', '@waking_nicole\\n2 years ago', '@Rajashree115\\n2 years ago', '@privateequityguy\\n2 years ago', '@patrickcatalano4795\\n2 years ago', '@ashercheng1556\\n2 years ago', '@karinacs6833\\n2 years ago', '@MyBuzzL\\n2 years ago', '@omarbenkou1712\\n2 years ago', '@omarbenkou1712\\n2 years ago', '@MetalGearTenno\\n2 years ago', '@veteldspeed9345\\n2 years ago', '@billgates3140\\n2 years ago', '@jackfrosty4674\\n2 years ago', '@marianserra8371\\n2 years ago', '@richardvervoorn6626\\n2 years ago', '@itzyfan88\\n2 years ago', '@OriginalPuro\\n2 years ago', '@torahstruthsobiblicalbayan419\\n2 years ago', '@nicknunyapix4330\\n2 years ago', '@stanleygodlewski5489\\n2 years ago', '@inderkamboz455\\n2 years ago', '@WarriorHitomi\\n1 year ago', '@under_rated4204\\n11 months ago', '@alexandervega699\\n9 months ago (edited)', '@yudaoptiffiny4206\\n1 month ago', '@verygrayshark2155\\n5 years ago', '@saturn1returns\\n5 years ago', '@psnedits2139\\n5 years ago', '@nyetre7665\\n5 years ago', '@verygrayshark2155\\n5 years ago', '@Vizihon\\n5 years ago', '@serdlc64\\n5 years ago', '@verygrayshark2155\\n5 years ago', '@chrism7275\\n5 years ago', '@cameronblakeley5240\\n5 years ago', '@expresz1016\\n5 years ago', '@kevinmalone8564\\n5 years ago', '@Skeptic_Tank\\n5 years ago', '@stevenpaul4394\\n2 years ago', '@kelvintimothy1544\\n2 years ago', '@joykelvin1595\\n2 years ago', '@terryarthur5148\\n2 years ago', '@bettykaren2713\\n2 years ago', '@edwardgeorge7422\\n2 years ago', '@aarontyler3029\\n2 years ago', '@johnwilliams3018\\n2 years ago', '@douglaszachary3863\\n2 years ago', '@mariewoods4193\\n2 years ago', '@michaeldonald2150\\n2 years ago', '@robertmichael1764\\n2 years ago', '@danielmattew2611\\n2 years ago', '@adamnathan6744\\n2 years ago', '@adamnathan6744\\n2 years ago', '@adamnathan6744\\n2 years ago', '@adamnathan6744\\n2 years ago', '@joshuakenneth9332\\n2 years ago', '@deborahsharon2083\\n2 years ago', '@ashleykimberly4285\\n2 years ago', '@johnmark8996\\n2 years ago', '@elijahbobby3078\\n2 years ago', '@elijahbobby3078\\n2 years ago', '@elijahbobby3078\\n2 years ago', '@elijahbobby3078\\n2 years ago', '@elijahbobby3078\\n2 years ago', '@elijahbobby3078\\n2 years ago', '@patience431\\n2 years ago', '@faithcarol9166\\n2 years ago', '@andrewedward1127\\n2 years ago', '@andrewedward1127\\n2 years ago', '@andrewedward1127\\n2 years ago', '@dorothymelissa4897\\n2 years ago', '@navneetsingh9187\\n1 year ago', '@arneparmentier2806\\n7 years ago', '@armaha\\n6 years ago', '@poniesandlife\\n6 years ago', '@dorothykelly8924\\n3 years ago', '@kevintoner6068\\n7 years ago', '@anujsatavase7738\\n7 years ago', '@emilostafiiciuc300\\n7 years ago', '@AXLplosion\\n7 years ago', '@valadisprimetv3789\\n7 years ago', '@shankhan547\\n7 years ago', '@AXLplosion\\n7 years ago', '@leegenny8712\\n7 years ago', '@akawicked\\n6 years ago', '@ngon1111\\n6 years ago', '@e1123581321345589144\\n6 years ago', '@agatasoda\\n6 years ago', '@michaeltreu4152\\n6 years ago', '@BrigadirBest\\n6 years ago', '@naikkelas1241\\n6 years ago', '@pandoranbias1622\\n6 years ago', '@PicturesqueGames\\n6 years ago', '@nzarch9741\\n6 years ago', '@Occu10\\n6 years ago', '@cincybaseballclub\\n6 years ago', '@vmwindustries\\n6 years ago', '@vmwindustries\\n6 years ago', '@fondren001\\n6 years ago', '@kaitlynkronberg255\\n6 years ago', '@bolafson\\n6 years ago', '@siwel97\\n6 years ago', '@starkrush\\n6 years ago', '@Sone418\\n6 years ago', '@starkrush\\n6 years ago', '@davidfortier6976\\n6 years ago', '@davidfortier6976\\n6 years ago', '@torontobud8902\\n6 years ago', '@LLLadySSS\\n6 years ago', '@ZombieRommel\\n6 years ago', '@michaelannen4168\\n6 years ago', '@Funymoney010\\n6 years ago', '@InSaN3ViSioN\\n6 years ago', '@fizzmo6740\\n5 years ago', '@ok-vt5nl\\n5 years ago', '@samguapo4573\\n5 years ago', '@mrbest1981\\n5 years ago', '@tazerdduck5664\\n5 years ago', '@tazerdduck5664\\n5 years ago', '@JB-pb7ue\\n5 years ago', '@hugomolinaOG\\n5 years ago', '@hugomolinaOG\\n5 years ago', '@adamschaeffer1436\\n5 years ago', '@goosegaming6548\\n5 years ago', '@Mace-1191\\n5 years ago', '@adamschaeffer1436\\n5 years ago (edited)', '@adamschaeffer1436\\n5 years ago (edited)', '@adamschaeffer1436\\n5 years ago', '@Mace-1191\\n5 years ago', '@adamschaeffer1436\\n5 years ago', '@jonathonhinkle89\\n5 years ago', '@parker469a\\n5 years ago', '@jeffholman2364\\n5 years ago (edited)', '@britthill-noprodonwant6789\\n5 years ago', '@sonofChrist9682\\n5 years ago', '@vegass04\\n5 years ago', '@theguycalledhero\\n5 years ago', '@theguycalledhero\\n5 years ago', '@pavanbs6407\\n5 years ago', '@I-P-777\\n5 years ago', '@leonblythe5109\\n5 years ago', '@PowerPAOK\\n5 years ago', '@Domna7\\n5 years ago (edited)', '@Jeiku333\\n5 years ago', '@yeezywesty3651\\n5 years ago', '@janine7418\\n5 years ago', '@Shark-kawaii104\\n5 years ago', '@_patontheback_\\n5 years ago', '@RomeNY212\\n5 years ago', '@philippw4769\\n5 years ago', '@ANDREPEIXOTO1\\n5 years ago', '@gaborrajnai5356\\n5 years ago', '@dankverse7681\\n5 years ago', '@reneepreston1199\\n5 years ago', '@ellywithpluto125\\n5 years ago', '@aprilia1kguitarlix129\\n5 years ago (edited)', '@mementotomato7141\\n5 years ago', '@mementotomato7141\\n5 years ago', '@jaybrady7275\\n5 years ago', '@Liednard\\n2 weeks ago', '@BARUK360\\n10 days ago', '@marianparker7502\\n1 year ago', '@tradekings5433\\n1 year ago', '@Alejandracamacho357\\n1 year ago', '@marianparker7502\\n1 year ago', '@Alejandracamacho357\\n1 year ago', '@marianparker7502\\n1 year ago', '@ivanrodriguez8988\\n1 year ago', '@SurflFilms\\n5 years ago', '@juan3141\\n5 years ago', '@SOLIDShift_VI\\n5 years ago', '@VSGotNM\\n5 years ago', '@stormdrops2232\\n5 years ago', '@isprithul\\n5 years ago', '@zensounds6856\\n5 years ago', '@isprithul\\n5 years ago', '@lordaldon9891\\n5 years ago', '@gilded\\n5 years ago', '@nana_dolo\\n5 years ago', '@jaackaboytheiii1107\\n5 years ago', '@Findmylimit\\n5 years ago', '@nicholaslokos7949\\n5 years ago', '@AndreyEvermore\\n5 years ago', '@MrWorld-cq4ps\\n5 years ago', '@mona-pu8dy\\n5 years ago', '@natsudragion7790\\n5 years ago', '@ax1s663\\n5 years ago', '@pimpdaddy8492\\n5 years ago', '@garcia9903\\n5 years ago', '@Enterthemind1\\n5 years ago', '@areyousureaboutthat6673\\n5 years ago', '@reiumali11\\n4 years ago', '@rivmrap4445\\n4 years ago', '@jigglypuff4227\\n4 years ago', '@ZachariahMBaird\\n4 years ago', '@jigglypuff4227\\n4 years ago', '@davidplummer7302\\n4 years ago', '@audimalvin5763\\n5 years ago', '@shittymcrvids3119\\n5 years ago', '@abilliondreams8046\\n4 years ago', '@liamcurran5612\\n4 years ago', '@averagejoe1468\\n4 years ago', '@beconfident5482\\n4 years ago', '@liamcurran5612\\n4 years ago', '@misfitsBP18\\n4 years ago', '@liamcurran5612\\n4 years ago', '@misfitsBP18\\n4 years ago', '@SurjeetSingh-sw1jp\\n4 years ago', '@icedice6393\\n4 years ago (edited)', '@pierreo33\\n4 years ago', '@BRYAN1989BLACK\\n4 years ago', '@shockminerx1518\\n4 years ago', '@lokeytombs1591\\n4 years ago', '@alekzandaaaaaaa\\n4 years ago', '@alekzandaaaaaaa\\n4 years ago', '@lashedandscorned\\n4 years ago', '@AmauryBlanco\\n4 years ago', '@audimalvin5763\\n3 years ago (edited)', '@HussainAhmad-kh3eo\\n3 years ago', '@audimalvin5763\\n3 years ago', '@patriciaragland1286\\n2 years ago', '@susankeltonmacquoidsmith8456\\n2 years ago', '@jayantimishra275\\n1 year ago', '@alexsmith73904\\n2 months ago (edited)', '@xihakuix\\n5 years ago', '@emelibelford6603\\n5 years ago', '@ronscott8045\\n5 years ago', '@nglyo\\n5 years ago', '@Dillinger86\\n5 years ago', '@cahenderson0812\\n5 years ago', '@terrancegraham5147\\n5 years ago', '@vandread\\n5 years ago', '@vinnievalentine421\\n5 years ago', '@coolboysix6\\n5 years ago', '@nickilovesdogs8137\\n5 years ago', '@heydonworks\\n5 years ago', '@kudle1399\\n5 years ago', '@dasein9980\\n5 years ago', '@seangangstad9597\\n5 years ago', '@MsAndaction\\n5 years ago', '@jennerwilliams8301\\n5 years ago', '@seangangstad9597\\n5 years ago', '@seangangstad9597\\n5 years ago', '@seangangstad9597\\n5 years ago', '@johny5400\\n5 years ago', '@RS_Spoon\\n5 years ago', '@MsSolo69\\n5 years ago', '@user-cq2cn2vb6l\\n5 years ago', '@Tooupi\\n5 years ago', '@jmacsss\\n5 years ago', '@bossokanagan2930\\n5 years ago (edited)', '@Valhallen002\\n5 years ago', '@steadfastcoward\\n5 years ago', '@daelaenor\\n5 years ago', '@americanengineering2063\\n5 years ago (edited)', '@americanengineering2063\\n5 years ago (edited)', '@BladeTheSuperior\\n5 years ago', '@vxllvxn\\n5 years ago', '@americanengineering2063\\n5 years ago', '@furryengineer2025\\n5 years ago', '@UltimateAPBTS\\n5 years ago', '@00pingvin00\\n5 years ago', '@Kombi-1\\n5 years ago', '@chris20jrandy63\\n5 years ago', '@WhiteRescuer\\n5 years ago', '@domjanlaszlo\\n5 years ago', '@wadeguidry6675\\n5 years ago', '@hugosanchez9025\\n5 years ago', '@alizea4179\\n5 years ago', '@kevinmalone8564\\n5 years ago', '@TheTinkushal\\n5 years ago', '@michaelpottorff2\\n5 years ago', '@mitchconner2021\\n5 years ago', '@jimmyking92\\n5 years ago', '@vMufasa\\n5 years ago', '@witherhoard5333\\n5 years ago', '@witherhoard5333\\n5 years ago', '@ScootersMum1\\n5 years ago', '@thecoolestkidinkalkallo9621\\n5 years ago', '@FOODREVOLUTION360\\n5 years ago', '@maiahee4906\\n5 years ago', '@evanross4673\\n5 years ago (edited)', '@J.7.1\\n5 years ago (edited)', '@JosephWiess\\n5 years ago', '@jjmonns\\n5 years ago', '@jjmonns\\n5 years ago', '@jjmonns\\n5 years ago', '@jjmonns\\n5 years ago', '@jjmonns\\n5 years ago', '@jjmonns\\n5 years ago', '@jjmonns\\n5 years ago', '@jjmonns\\n5 years ago', '@jjmonns\\n5 years ago', '@jjmonns\\n5 years ago', '@jjmonns\\n5 years ago', '@vandread\\n5 years ago', '@dasein9980\\n5 years ago', '@jjmonns\\n5 years ago', '@vandread\\n5 years ago', '@jjmonns\\n5 years ago', '@nglyo\\n5 years ago (edited)', '@jjmonns\\n5 years ago', '@nglyo\\n5 years ago (edited)', '@jjmonns\\n5 years ago', '@jjmonns\\n5 years ago', '@SunaK1993\\n5 years ago', '@250txc\\n5 years ago', '@sara_s_\\n5 years ago', '@paystar3436\\n5 years ago', '@achyuththouta6957\\n4 years ago', '@ed4wg380\\n4 years ago', '@ZachariahMBaird\\n4 years ago', '@ZachariahMBaird\\n4 years ago', '@williamhall6651\\n4 years ago', '@SableSunsets\\n4 years ago', '@olivercox2565\\n4 years ago', '@NochEnathan\\n4 years ago', '@davidplummer7302\\n4 years ago', '@davidplummer7302\\n4 years ago', '@davidplummer7302\\n4 years ago', '@davidplummer7302\\n4 years ago', '@nataliescofield8799\\n4 years ago', '@punctuationman334\\n4 years ago', '@neanda\\n4 years ago', '@pasqueypasquey4467\\n4 years ago', '@matthewcuriel991\\n4 years ago', '@matthewcuriel991\\n4 years ago', '@jjmonns\\n4 years ago (edited)', '@matthewcuriel991\\n4 years ago', '@MiamiRyu\\n4 years ago (edited)', '@pvtdipwad2944\\n4 years ago', '@Omakhara\\n4 years ago', '@Adrian-uc4ox\\n4 years ago', '@Chidzzz_\\n4 years ago', '@Masterbaiter1000\\n4 years ago (edited)', '@0909GC\\n4 years ago', '@Crispy_pata\\n4 years ago', '@anwarnadaf8480\\n4 years ago', '@tomrobertson3236\\n4 years ago', '@MansSuperPower\\n4 years ago', '@nick_knack\\n4 years ago', '@jeremygachemi6919\\n4 years ago', '@prudencelesibe9072\\n4 years ago', '@Necktiesforsale\\n4 years ago', '@tehflooper\\n4 years ago', '@tehflooper\\n4 years ago', '@tehflooper\\n4 years ago (edited)', '@tehflooper\\n4 years ago', '@alan-nova363\\n4 years ago', '@fr0g_friend360\\n4 years ago', '@photofinish8607\\n4 years ago', '@rebeccaerb9935\\n4 years ago', '@cbro777\\n4 years ago', '@menazeetnt2725\\n4 years ago', '@urban_explorer42\\n4 years ago', '@coolamericano\\n4 years ago', '@kennydoneit7872\\n4 years ago', '@kennydoneit7872\\n4 years ago', '@JumpingTheGunTV\\n4 years ago', '@gripfc8365\\n4 years ago', '@jerrell1169\\n4 years ago', '@futureselftherapy\\n4 years ago', '@cj03harr\\n4 years ago', '@vanlalchaka\\n4 years ago', '@dusanrenat5567\\n4 years ago', '@ronmutugi2755\\n4 years ago', '@BlackKnight-ll8qh\\n3 years ago', '@lisadeherrera6452\\n3 years ago', '@BooDotBoo\\n3 years ago', '@lynnchoi\\n3 years ago', '@eemeli224\\n3 years ago', '@marwa572\\n3 years ago', '@jesusa.garciasanchez3798\\n3 years ago', '@lilzaza7532\\n3 years ago', '@ryanjohnson8646\\n3 years ago', '@paolo_benda\\n3 years ago', '@tobiahwiersteiner7713\\n3 years ago', '@thelocaladventurer7130\\n3 years ago', '@nickybanks1191\\n3 years ago', '@danisrael10487\\n3 years ago', '@BKrS15\\n3 years ago', '@williamchin5600\\n3 years ago', '@sandip471\\n3 years ago', '@joeyyang1827\\n3 years ago', '@eshanic\\n3 years ago', '@xula9176\\n3 years ago (edited)', '@darkblaze1594\\n3 years ago', '@CheckTheseLyrics\\n3 years ago', '@Rizzhi16\\n3 years ago', '@reginapriest5287\\n3 years ago', '@SuperGuanine\\n3 years ago', '@juliaiancu5319\\n3 years ago', '@heydonworks\\n3 years ago', '@GuwJuice_PttP\\n3 years ago', '@wistleblower\\n3 years ago', '@usernameorsomething6270\\n3 years ago', '@BaconNDCheese\\n3 years ago', '@rushikeshspace.7075\\n3 years ago', '@wistleblower\\n3 years ago', '@mikeseemayer3047\\n3 years ago', '@mikeseemayer3047\\n3 years ago', '@mikeseemayer3047\\n3 years ago', '@mikeseemayer3047\\n3 years ago', '@mikeseemayer3047\\n3 years ago', '@daelaenor\\n3 years ago', '@miguelfragoso7023\\n3 years ago', '@alitv3957\\n3 years ago', '@Santiago-5107\\n3 years ago', '@alexiskeys\\n3 years ago', '@temdb3939\\n3 years ago', '@alexandercle\\n3 years ago', '@aka_tinalouise\\n3 years ago', '@chloembm\\n3 years ago', '@mrinfo2821\\n3 years ago', '@TruSwen93\\n3 years ago', '@hamonryehd\\n3 years ago', '@leannchandler8467\\n3 years ago', '@livestyle5527\\n3 years ago', '@venuscarmen437\\n3 years ago', '@angelfelixgallardomiguel\\n3 years ago', '@Thriftxxxx\\n3 years ago', '@justsomepersononyoutube9271\\n3 years ago', '@justh3378\\n3 years ago', '@enlightenedstep1250\\n3 years ago', '@cherbearVR\\n3 years ago', '@rafaelangelopiad8919\\n3 years ago', '@akagami-bo1vj\\n3 years ago', '@Mananitoh\\n3 years ago', '@KeithTheKing67\\n3 years ago', '@richardparker4015\\n3 years ago', '@lindyedwards3057\\n3 years ago', '@lindyedwards3057\\n3 years ago', '@lindyedwards3057\\n3 years ago', '@matthewgomez6024\\n3 years ago', '@xmhnab8737\\n3 years ago', '@okuselutope5851\\n3 years ago', '@vashstampede4878\\n3 years ago', '@sharonsuite4022\\n3 years ago', '@jerseyltd\\n3 years ago', '@davidmathes6730\\n3 years ago', '@jerseyltd\\n3 years ago', '@user-lj4cl9ik1m\\n3 years ago', '@Runitup9992\\n3 years ago', '@wutare6643\\n3 years ago', '@sad20yrold\\n3 years ago', '@sad20yrold\\n3 years ago', '@Incognito.701\\n3 years ago', '@charlestonblack3116\\n3 years ago', '@goinawol9447\\n3 years ago', '@georgewindellward4402\\n3 years ago', '@sy20000\\n3 years ago', '@Vantiastar93\\n3 years ago', '@ehsanrezai4198\\n3 years ago', '@LuisMorales-yx8di\\n3 years ago', '@cosmic2750\\n3 years ago', '@InvestorPatricia\\n3 years ago', '@hiimadrienne\\n3 years ago', '@goodstuffbadstuff2304\\n3 years ago', '@evelingarcia3192\\n3 years ago', '@LEO-qh2bb\\n3 years ago (edited)', '@kingcrown5658\\n3 years ago', '@Rising_Ballers\\n3 years ago', '@kimberlysmith9499\\n3 years ago', '@kimberlysmith9499\\n3 years ago', '@anshulsharma4500\\n3 years ago', '@bundyboy961\\n3 years ago', '@sharonfleming810\\n3 years ago', '@NeelTigers\\n3 years ago', '@tylernie9149\\n3 years ago', '@Lafea55\\n3 years ago', '@Lafea55\\n3 years ago', '@rubenramos1426\\n3 years ago', '@annieezekiel6019\\n3 years ago', '@Jaya-kq1ed\\n3 years ago', '@unoqualunque5484\\n3 years ago', '@jackphilipsen452\\n3 years ago', '@jackphilipsen452\\n3 years ago (edited)', '@dorisreynolds8904\\n3 years ago', '@jackphilipsen452\\n3 years ago', '@dorisreynolds8904\\n3 years ago', '@perryreese2696\\n3 years ago (edited)', '@crystalgreco5699\\n3 years ago', '@waken2442\\n3 years ago', '@kellybesuijen1554\\n3 years ago', '@davida.2623\\n3 years ago', '@okikeure7422\\n3 years ago', '@jenniferorozco9064\\n3 years ago', '@xeya3500\\n3 years ago', '@jerodfehr2979\\n3 years ago (edited)', '@jerodfehr2979\\n3 years ago', '@lashawnablanton4649\\n3 years ago', '@vandread\\n3 years ago (edited)', '@jwc5004\\n3 years ago', '@gpapava\\n3 years ago', '@mas._.k_\\n3 years ago', '@cp.jaikumar8529\\n3 years ago', '@agathalee2292\\n3 years ago', '@ichihikaru507\\n3 years ago', '@jerfington9200\\n3 years ago', '@judithjamero9618\\n3 years ago', '@davidzhorwath\\n3 years ago', '@prashantjain8805\\n3 years ago', '@scotthreshold3082\\n3 years ago', '@oisiandowney556\\n3 years ago', '@changetheeducationsystem5247\\n3 years ago', '@marcoinvesting5339\\n3 years ago', '@avijitkabiraj2187\\n3 years ago', '@abdulmohsenalshayeb6046\\n3 years ago', '@blackrocktile5855\\n3 years ago', '@blackrocktile5855\\n3 years ago', '@tigressnsnow\\n3 years ago', '@travelswithaz\\n3 years ago', '@EGameDreamer\\n3 years ago', '@robertmichael2496\\n3 years ago', '@Marta1Buck\\n3 years ago', '@dbuc4671\\n3 years ago', '@fumesy_6262\\n3 years ago', '@livvyjos\\n3 years ago', '@Krisshy\\n3 years ago', '@heathermcmahan651\\n3 years ago', '@susanasanchez4538\\n3 years ago', '@osixrl9447\\n3 years ago', '@alisonlapoint2094\\n3 years ago', '@valacebedo\\n3 years ago', '@elizabethlambert1669\\n3 years ago', '@Spartan-Of-Truth\\n3 years ago', '@_mohitsinghh\\n3 years ago', '@rachwanharb\\n3 years ago', '@roguerock22\\n3 years ago', '@PramodhRachuri\\n3 years ago', '@agentorangecb1\\n3 years ago', '@bleghbolbi9267\\n3 years ago', '@64friendlyone\\n3 years ago', '@tama-a-tumatauengahiku3647\\n3 years ago (edited)', '@demzt.7677\\n3 years ago', '@themayor6355\\n3 years ago', '@sofiapiga8146\\n3 years ago', '@williamgonzalaez229\\n3 years ago', '@user-xk8zu3jb2z\\n3 years ago', '@Cultleader1984\\n3 years ago', '@user-xk8zu3jb2z\\n3 years ago', '@rickkloek2411\\n3 years ago', '@meranaamsweetgirl\\n3 years ago', '@troll4959\\n3 years ago', '@jarvishong45\\n3 years ago', '@johnhowells6754\\n3 years ago', '@v22arvind\\n3 years ago', '@tbg1855\\n3 years ago', '@MsRen1975\\n3 years ago', '@user-rg5ph3md9y\\n3 years ago', '@CatChannelWithEntertainment\\n3 years ago', '@VectorOfKnowledge\\n3 years ago', '@VectorOfKnowledge\\n3 years ago', '@elise.ester23\\n3 years ago', '@VectorOfKnowledge\\n3 years ago', '@UltraMegaFireKick\\n3 years ago', '@sonypucha9480\\n3 years ago', '@VectorOfKnowledge\\n3 years ago', '@mikewaters1366\\n3 years ago', '@106waysmakingmoneyonline9\\n3 years ago', '@106waysmakingmoneyonline9\\n3 years ago', '@106waysmakingmoneyonline9\\n3 years ago', '@106waysmakingmoneyonline9\\n3 years ago', '@sourabh4033\\n3 years ago', '@bernhardsupernova8275\\n3 years ago', '@whitepony8443\\n3 years ago', '@bernhardsupernova8275\\n3 years ago (edited)', '@bernhardsupernova8275\\n3 years ago', '@MannyCalderari\\n3 years ago', '@warningsimulationoverload9391\\n2 years ago', '@detective7852\\n2 years ago', '@vinayaklal8074\\n2 years ago', '@bingsi8134\\n2 years ago', '@bingsi8134\\n2 years ago', '@Derikimi\\n2 years ago', '@jkk20\\n2 years ago', '@jackfortune4447\\n2 years ago', '@waynesetiawan2794\\n2 years ago', '@dianamendez6512\\n2 years ago', '@tordlindgren2123\\n2 years ago', '@SCP--mw7tx\\n2 years ago', '@GameStop-gp6gf\\n2 years ago', '@GameStop-gp6gf\\n2 years ago', '@nathansnow\\n2 years ago', '@glenistergrotj3022\\n2 years ago', '@emersontopacio2865\\n2 years ago', '@SandyWolf-\\n2 years ago', '@romeosarmiento6333\\n2 years ago', '@romeosarmiento6333\\n2 years ago', '@commonsenseskeptic\\n2 years ago', '@money1singh652\\n2 years ago', '@theguy4985\\n2 years ago', '@cc-ci5dq\\n2 years ago', '@stefanpapp4237\\n2 years ago', '@MzLadeeK68\\n2 years ago', '@3kashm3\\n2 years ago', '@3kashm3\\n2 years ago', '@buafuu4620\\n2 years ago', '@MedicalSkillsTraining\\n2 years ago', '@luzmariaperdomo793\\n2 years ago', '@Kennyjr-rr8rm\\n2 years ago', '@uncapabrew4807\\n2 years ago', '@dollbaby9017\\n2 years ago', '@arthurwhitfield6685\\n2 years ago', '@stevenporter863\\n2 years ago (edited)', '@lornamanning3130\\n2 years ago', '@official_pankaj180\\n2 years ago', '@jamesfair9751\\n2 years ago', '@ZoraTheExplora\\n2 years ago', '@OriginalKingRichTv\\n2 years ago', '@pcysneros\\n2 years ago', '@anitasaad5875\\n2 years ago', '@vivekjoshi5207\\n2 years ago', '@user-xu7jp2ro5k\\n2 years ago', '@vandread\\n2 years ago', '@user-xu7jp2ro5k\\n2 years ago', '@x4tfxChallenger\\n2 years ago', '@jonakibu8323\\n2 years ago', '@abegmazumder2717\\n2 years ago', '@tobyhernandez7961\\n2 years ago', '@tiaryan1350\\n2 years ago', '@muakurambn\\n2 years ago', '@kingpinsmith22\\n2 years ago', '@lindakelly4504\\n2 years ago', '@lindakelly4504\\n2 years ago', '@lindakelly4504\\n2 years ago', '@phoenix_SCS\\n2 years ago', '@thegreatoutdoors9344\\n2 years ago', '@lisarousseaustevens1248\\n2 years ago', '@Frankosclone\\n2 years ago', '@jeffreyvanlijsebeth3966\\n2 years ago', '@hayleysmith5077\\n2 years ago', '@jeffreyvanlijsebeth3966\\n2 years ago', '@michaelherndon9573\\n2 years ago', '@SL-rh5xo\\n2 years ago', '@brundabanmedicalstore9165\\n2 years ago', '@waveafterwave0723\\n2 years ago', '@j5jackson878\\n2 years ago', '@darrentiffney5900\\n2 years ago', '@jessemiller6768\\n2 years ago', '@RosemaryVoak\\n1 year ago', '@Pennwild\\n1 year ago', '@reality_official\\n1 year ago', '@onedadimce7664\\n1 year ago', '@jayantimishra275\\n1 year ago', '@jayantimishra275\\n1 year ago', '@jayantimishra275\\n1 year ago', '@ericpalmer3588\\n1 year ago', '@Hello-xp5wz\\n1 year ago', '@petraanna9272\\n1 year ago', '@AhsanTritya\\n1 year ago', '@WarriorHitomi\\n1 year ago', '@johnkristenson139\\n1 year ago', '@johnkristenson139\\n1 year ago', '@faiida1793\\n1 year ago', '@anitsaad6131\\n1 year ago', '@anitsaad6131\\n1 year ago', '@anitsaad6131\\n1 year ago', '@GodYermonia\\n6 months ago', '@hambleboykkz_3396\\n6 months ago', '@TechzTubeCreator\\n5 months ago', '@abiel2939\\n4 months ago', '@user-yw9gy9rt8e\\n3 months ago', '@user-yw9gy9rt8e\\n3 months ago', '@WistarWisdom\\n2 months ago', '@diannsmith8580\\n2 months ago', '@saeedghazal\\n1 month ago', '@Theonlyraybands\\n2 weeks ago', '@gokudemon81\\n4 years ago', '@JayR-ct8pv\\n4 years ago', '@januczak3705\\n4 years ago (edited)', '@januczak3705\\n4 years ago', '@musicg1696\\n3 years ago', '@musicg1696\\n3 years ago (edited)', '@reginamuthhickman8549\\n1 year ago', '@punnaroothsrimongkolsilp1543\\n11 months ago', '@ElonMusk-hc1ls\\n10 months ago', '@ElonMusk-tn1qn\\n9 months ago', '@Nick00Fury\\n5 years ago', '@hopesy12u4\\n5 years ago', '@torque6222\\n5 years ago', '@furryengineer2025\\n5 years ago', '@ShreyanshJindal\\n7 years ago', '@alekar2034\\n7 years ago', '@tuomio5043\\n7 years ago', '@AetherXIV\\n7 years ago', '@HaZy_RL\\n7 years ago', '@VinnyOho\\n7 years ago', '@JMBBproject\\n7 years ago', '@VinnyOho\\n7 years ago', '@petlahk4119\\n7 years ago', '@HarshvardhanSingh007\\n7 years ago', '@MrGriff305\\n7 years ago', '@spectrum503\\n7 years ago', '@MrGriff305\\n7 years ago', '@DarronBlack\\n7 years ago (edited)', '@schyzm\\n7 years ago', '@divyanshjindal7780\\n7 years ago', '@AxelBrass\\n6 years ago', '@AxelBrass\\n6 years ago (edited)', '@EIO01\\n6 years ago', '@somewhatinformed1208\\n5 years ago', '@somewhatinformed1208\\n5 years ago', '@edenswaterislife9214\\n2 years ago', '@sabirakaldybaeva4873\\n2 years ago', '@jameshayes524\\n2 years ago', '@RekhaSharma-ki4hl\\n2 years ago', '@save4jesus104\\n2 years ago', '@ANGEL-eh6pd\\n2 years ago', '@save4jesus104\\n2 years ago', '@save4jesus104\\n2 years ago', '@save4jesus104\\n2 years ago', '@save4jesus104\\n2 years ago', '@save4jesus104\\n2 years ago', '@outofthebox9699\\n2 years ago', '@annbush1826\\n2 years ago', '@teresawilliamson9377\\n2 years ago', '@ivonned32\\n2 years ago', '@ivonned32\\n2 years ago (edited)', '@WXSTANG\\n2 years ago', '@johnmacdonald194\\n1 year ago', '@infinityresourcegroupinc.1314\\n2 years ago', '@Legoatdufootball0\\n4 years ago', '@saaraguhar1234\\n4 years ago', '@paulmuseck6423\\n4 years ago', '@BeAPickle\\n4 years ago', '@buttercupslongnails\\n4 years ago', '@black_jack_meghav\\n4 years ago (edited)', '@diegomieryterangc\\n4 years ago', '@dgayle25\\n4 years ago', '@diegomieryterangc\\n4 years ago', '@nathannakaji970\\n4 years ago', '@swirlandtwirl5417\\n4 years ago', '@vcat417\\n4 years ago', '@RianPrakoso91\\n4 years ago', '@diegomieryterangc\\n4 years ago', '@diegomieryterangc\\n4 years ago', '@diegomieryterangc\\n4 years ago', '@codeisfun3041\\n4 years ago', '@Segegerstadt\\n4 years ago', '@Joey_Stylez\\n4 years ago', '@angelanelajuly2961\\n4 years ago', '@irfanali-nt4xo\\n4 years ago', '@polpol1005\\n2 years ago', '@renataheiberg7534\\n2 years ago', '@warriorprincessharmony\\n1 year ago', '@QMU-nj9nx\\n3 years ago', '@eminem21314\\n3 years ago', '@reign225\\n3 years ago (edited)', '@marinomusico5768\\n3 years ago', '@ThomasZiano\\n3 years ago', '@magorzatakitka4266\\n3 years ago', '@ThomasZiano\\n3 years ago', '@magorzatakitka4266\\n3 years ago', '@CX-ru1ql\\n3 years ago', '@larapalma3744\\n3 years ago', '@ddlittle752\\n3 years ago', '@juanitareynoso5154\\n3 years ago', '@juanitareynoso5154\\n3 years ago', '@AusValue\\n3 years ago', '@giantreaveraloadae8229\\n3 years ago', '@giantreaveraloadae8229\\n3 years ago', '@AusValue\\n3 years ago', '@AusValue\\n3 years ago', '@giantreaveraloadae8229\\n3 years ago', '@giantreaveraloadae8229\\n3 years ago (edited)', '@giantreaveraloadae8229\\n3 years ago (edited)', '@raimondainsar4519\\n2 years ago', '@giantreaveraloadae8229\\n2 years ago', '@giantreaveraloadae8229\\n2 years ago', '@giantreaveraloadae8229\\n2 years ago', '@raimondainsar4519\\n2 years ago (edited)', '@giantreaveraloadae8229\\n2 years ago (edited)', '@anthony94172\\n1 year ago', '@doungnguyen4067\\n1 year ago', '@suleimanhadiza7218\\n1 year ago', '@yusufjecob5819\\n1 year ago', '@chibuzoreustace2352\\n1 year ago', '@henrymark8359\\n1 year ago', '@promiseessien730\\n1 year ago', '@bilyaminusalisu1746\\n1 year ago', '@LiJie-ml5di\\n1 year ago', '@akinpeluazeez861\\n1 year ago (edited)', '@nayendaben\\n1 year ago', '@aperuaemmanuel8127\\n1 year ago', '@usmanibrahim6296\\n1 year ago', '@marklucas1799\\n1 year ago', '@solomon2863\\n1 year ago', '@solomon2863\\n1 year ago', '@rodiyahyusuff7702\\n1 year ago', '@rodiyahyusuff7702\\n1 year ago', '@rodiyahyusuff7702\\n1 year ago', '@rodiyahyusuff7702\\n1 year ago', '@rodiyahyusuff7702\\n1 year ago', '@solomon2863\\n1 year ago', '@muhammadauwalu1593\\n1 year ago', '@akinsanoladamilola7557\\n1 year ago', '@begekumai783\\n1 year ago', '@harrisonmichael9636\\n1 year ago', '@harrisonpoter\\n1 year ago', '@ElderEleryDavidChampion-th9lt\\n1 year ago', '@finelooksfashion2732\\n4 years ago', '@mari0664\\n4 years ago', '@jessicah3450\\n4 years ago', '@wizard6906\\n4 years ago', '@spokenlife175\\n4 years ago', '@misterb861\\n4 years ago', '@chiefinspectorduvall6073\\n4 years ago', '@isibin21\\n2 years ago', '@rakibmiji8161\\n2 years ago', '@dondragmer2412\\n2 years ago', '@susanazinger2525\\n2 years ago', '@jackfrosty4674\\n2 years ago', '@ivonned32\\n2 years ago', '@debjanigoswami4661\\n1 year ago (edited)', '@whitenoise509\\n7 years ago', '@kraven4444\\n6 years ago', '@vilmiswow\\n6 years ago', '@ghtechreview\\n6 years ago', '@keystothebox\\n6 years ago', '@thelonesomewanderer8359\\n6 years ago', '@MsNeelamma\\n6 years ago', '@ivst3655\\n2 years ago', '@AnhPhamTH\\n8 months ago', '@Bean_IELTS\\n8 months ago', '@JoshForet\\n7 years ago', '@FreakyStyleytobby\\n7 years ago', '@spectrum503\\n7 years ago', '@benjamind.4790\\n7 years ago', '@Oba936\\n7 years ago', '@THEMithrandir09\\n7 years ago', '@wuvliving8083\\n7 years ago', '@dudleybarker2273\\n7 years ago', '@andychang2739\\n7 years ago', '@THEMithrandir09\\n7 years ago', '@isaac1403\\n7 years ago', '@bRadicalmagic1\\n6 years ago', '@edbenti5007\\n6 years ago', '@jasplays6392\\n6 years ago (edited)', '@jasplays6392\\n6 years ago', '@DRG_Boys\\n6 years ago', '@KilgoreTroutAsf\\n6 years ago', '@rolan638\\n6 years ago', '@franzesc\\n6 years ago', '@desinoel4851\\n6 years ago', '@casylius\\n6 years ago', '@maktapond4702\\n6 years ago (edited)', '@vinayakjadhav1719\\n4 years ago (edited)', '@4xJojo\\n4 years ago', '@zakiruzzama1822\\n4 years ago', '@phosphorusheart\\n4 years ago', '@whompingdomping9878\\n4 years ago', '@rc-pf1wq\\n4 years ago', '@veraluciazdanowsky649\\n2 years ago (edited)', '@michaeljames1056\\n2 years ago', '@Ism0kecr4ck\\n3 years ago', '@CleeveSpy\\n3 years ago', '@pronayfly\\n3 years ago', '@informationtechnology4562\\n3 years ago', '@sinuslebastian6366\\n3 years ago', '@informationtechnology4562\\n3 years ago', '@CarlosLopez-wh2ih\\n3 years ago', '@ryanfoley850\\n3 years ago', '@MusartJD\\n3 years ago', '@vanessageronimo8146\\n3 years ago', '@treepeenbawlz1934\\n3 years ago', '@dyddhks86\\n3 years ago', '@johns8065\\n3 years ago', '@thomaszweh2535\\n3 years ago', '@thomaszweh2535\\n3 years ago', '@davidsoom1551\\n3 years ago', '@cabodindin8670\\n3 years ago', '@drgacal7306\\n3 years ago', '@AwjayTV\\n3 years ago', '@spencerchidley1060\\n4 years ago', '@bikedawg\\n4 years ago', '@cyberdemon3506\\n4 years ago', '@malete12\\n4 years ago', '@TheBaldyheed\\n4 years ago', '@stephenadair8356\\n4 years ago', '@AM-ry8is\\n4 years ago', '@AM-ry8is\\n4 years ago', '@simpleisthebest73\\n4 years ago', '@GunnerRDS\\n4 years ago', '@user-xt9iv4zz2l\\n1 year ago', '@zaz4667\\n2 years ago', '@chrisnegley\\n6 years ago (edited)', '@jacob8266\\n6 years ago', '@lihyaman\\n6 years ago', '@bartjuhh93\\n6 years ago', '@doodlebawb\\n6 years ago', '@joemonroe9456\\n6 years ago', '@Winning781\\n6 years ago', '@jacobborgerding6045\\n6 years ago', '@mafiotzi\\n6 years ago', '@rsolo4770\\n6 years ago (edited)', '@Scarletpimpanel73\\n6 years ago (edited)', '@joe2mercs\\n6 years ago', '@DJ-im7os\\n6 years ago', '@daleperkins7745\\n6 years ago', '@Triumvirate3\\n6 years ago', '@hanslain9729\\n6 years ago', '@kurtlowder3276\\n6 years ago', '@kurtlowder3276\\n6 years ago', '@prat4055\\n6 years ago', '@JohnSmith-qf1jn\\n6 years ago', '@nejatolgunturk3702\\n6 years ago', '@iwaswithyourmom9410\\n6 years ago', '@minh_d3475\\n6 years ago (edited)', '@tombryan1\\n6 years ago', '@TagmakersCoUk\\n6 years ago', '@TagmakersCoUk\\n6 years ago', '@oliverclearwater1054\\n6 years ago', '@jacoblim4016\\n6 years ago', '@BiGG_X\\n6 years ago', '@period5304\\n6 years ago', '@raidermaxx2324\\n6 years ago', '@GameStop-gp6gf\\n2 years ago', '@gabrielazetkova4666\\n2 years ago', '@jayantimishra275\\n1 year ago', '@elwinjyothis5388\\n4 years ago (edited)', '@hackforhack7363\\n3 years ago', '@Ego208\\n3 years ago', '@anandups5931\\n3 years ago', '@elwinjyothis5388\\n3 years ago', '@tentacionai\\n3 years ago', '@aresthecommenter1424\\n3 years ago', '@zubinkynto\\n3 years ago', '@Qasibr\\n3 years ago', '@marios9824\\n3 years ago', '@shouvikghosh766\\n3 years ago', '@hermionegranger2132\\n3 years ago', '@jaideepdighe5919\\n3 years ago', '@H_A_L_7\\n3 years ago', '@H_A_L_7\\n3 years ago', '@kaliyansblogs9777\\n3 years ago', '@marios9824\\n3 years ago', '@marios9824\\n3 years ago', '@marios9824\\n3 years ago', '@marios9824\\n3 years ago', '@hunteranimates3442\\n3 years ago', '@rishabhisthename\\n3 years ago', '@alexcope8142\\n3 years ago', '@elwinjyothis5388\\n3 years ago', '@velinix7915\\n3 years ago', '@carlsapartments8931\\n3 years ago', '@rasithwnninayaka1633\\n3 years ago', '@DarkKatzy013\\n3 years ago', '@user-hp5xs3bo8p\\n3 months ago', '@thestylishman2536\\n1 year ago', '@eleanor_hutchinson\\n1 year ago', '@life-pn5zz\\n1 year ago', '@gerredavis8550\\n1 year ago', '@Scarlett_Wright\\n1 year ago', '@tracy...5245\\n1 year ago', '@tracy...5245\\n1 year ago', '@masteredmeals6710\\n1 year ago', '@ellarhodes6261\\n1 year ago', '@Perla.pagoyo\\n1 year ago', '@Perla.pagoyo\\n1 year ago', '@Perla.pagoyo\\n1 year ago', '@Perla.pagoyo\\n1 year ago', '@Perla.pagoyo\\n1 year ago', '@Perla.pagoyo\\n1 year ago', '@Clarissa210\\n1 year ago', '@Clarissa210\\n1 year ago', '@Richards631\\n1 year ago', '@Richards631\\n1 year ago', '@Nicholas-Richardson\\n1 year ago', '@Simoncharles991\\n1 year ago', '@SerenGordon\\n1 year ago', '@arianabull4691\\n1 year ago', '@Daniel.Porter.\\n1 year ago', '@Mathew64\\n1 year ago', '@dorianb3671\\n5 years ago', '@LeesReviews69\\n5 years ago', '@luke-fh9gf\\n5 years ago', '@johnchigur7706\\n5 years ago', '@LeesReviews69\\n5 years ago', '@johnchigur7706\\n5 years ago', '@johnchigur7706\\n5 years ago', '@LeesReviews69\\n5 years ago (edited)', '@johnchigur7706\\n5 years ago', '@wizzypeazzy\\n5 years ago', '@johnchigur7706\\n5 years ago', '@slumpednick1353\\n5 years ago', '@ghosttube6525\\n5 years ago', '@wizzypeazzy\\n5 years ago', '@johnchigur7706\\n5 years ago', '@wizzypeazzy\\n5 years ago', '@johnchigur7706\\n5 years ago', '@wizzypeazzy\\n4 years ago', '@johnchigur7706\\n4 years ago', '@wizzypeazzy\\n4 years ago', '@wizzypeazzy\\n4 years ago', '@johnchigur7706\\n4 years ago', '@danielxavierkrissll6044\\n4 years ago', '@jillsdasilva\\n3 years ago', '@petermpeters\\n3 years ago', '@Odile.the.swan.\\n3 years ago (edited)', '@rosiepartida3570\\n3 years ago', '@lisabek72\\n3 years ago', '@supertramp6011\\n3 years ago', '@VectorOfKnowledge\\n3 years ago', '@danielmoore4024\\n3 years ago', '@noellarash367\\n3 years ago', '@xurshidamustafoyeva826\\n3 years ago', '@beinginspirational7467\\n3 years ago', '@RedAlert3Uprising\\n3 years ago', '@mattstandage3328\\n3 years ago', '@paulbenjamin9910\\n3 years ago', '@indieelite\\n3 years ago', '@popefrancis80\\n3 years ago', '@paulbenjamin9910\\n3 years ago', '@nrimagecreativehub1215\\n3 years ago', '@indieelite\\n3 years ago', '@wesolowskimatt\\n3 years ago', '@wesolowskimatt\\n3 years ago', '@alexstephanie8051\\n1 year ago', '@steveashley8260\\n1 year ago', '@gabrielsmith9781\\n1 year ago', '@gabrielsmith9781\\n1 year ago', '@gabrielsmith9781\\n1 year ago', '@gabrielsmith9781\\n1 year ago', '@hassangary8961\\n1 year ago', '@hassangary8961\\n1 year ago', '@aliciathomas3271\\n1 year ago', '@aliciathomas3271\\n1 year ago', '@hassangary8961\\n1 year ago', '@hassangary8961\\n1 year ago', '@hassangary8961\\n1 year ago', '@hassangary8961\\n1 year ago', '@ericedward7258\\n1 year ago', '@ericedward7258\\n1 year ago', '@Kevin-pb1ge\\n1 year ago', '@Kevin-pb1ge\\n1 year ago', '@johnalex4006\\n1 year ago', '@johnalex4006\\n1 year ago', '@piusdavid2408\\n1 year ago', '@piusdavid2408\\n1 year ago', '@richardsusan924\\n1 year ago', '@henrymarcus4603\\n1 year ago', '@henrymarcus4603\\n1 year ago', '@jonathaneric99\\n1 year ago', '@jonathaneric99\\n1 year ago', '@omon3813\\n1 year ago', '@omon3813\\n1 year ago', '@markpaul1899\\n1 year ago', '@markpaul1899\\n1 year ago', '@ryancynthia3422\\n1 year ago', '@jeffreyjessica2536\\n1 year ago', '@jeffreyjessica2536\\n1 year ago', '@subhankar93\\n1 year ago', '@Salemaher46\\n6 years ago', '@mhmtftherdm01\\n6 years ago', '@korqkar8731\\n6 years ago', '@martivet\\n6 years ago', '@theo1170\\n6 years ago', '@ka_okai9\\n5 years ago (edited)', '@jimmulator3902\\n5 years ago', '@prudencelesibe9072\\n4 years ago', '@ShounakKatyayan\\n6 years ago', '@PrinceJJGoated\\n6 years ago', '@HerrWortel\\n6 years ago', '@Qopa\\n6 years ago', '@BarnBear\\n6 years ago', '@77Avadon77\\n6 years ago', '@Mathignihilcehk\\n6 years ago', '@tomlam5241\\n6 years ago', '@ADerpyReality\\n6 years ago', '@WillemBranten\\n6 years ago', '@Mathignihilcehk\\n6 years ago', '@WillemBranten\\n6 years ago', '@MAsonTRIX\\n6 years ago', '@oldsaltshippers\\n6 years ago', '@KilgoreTroutAsf\\n6 years ago', '@VortechBand\\n6 years ago', '@SodaBoda\\n6 years ago', '@GAURAV25855ify\\n6 years ago', '@oldsaltshippers\\n6 years ago (edited)', '@josiewood6370\\n6 years ago', '@vannoah\\n6 years ago', '@youngspunky2835\\n6 years ago', '@LikeAGroove\\n6 years ago', '@BAlvn-yr6ej\\n6 years ago', '@peppaz\\n6 years ago', '@SteveMorrow8859\\n6 years ago (edited)', '@nikolaus2688\\n6 years ago', '@myafaith3490\\n6 years ago', '@Rich4live\\n6 years ago', '@youbian\\n6 years ago', '@johnanna6047\\n6 years ago', '@3rdworlddog137\\n6 years ago', '@centralprocessingunit2564\\n6 years ago', '@PlutoTracks\\n6 years ago', '@roymaitland\\n6 years ago', '@centralprocessingunit2564\\n6 years ago', '@karissahochberg1823\\n6 years ago', '@PlusSe7en\\n6 years ago', '@kliaklia6391\\n6 years ago', '@magicfortrolls9853\\n6 years ago', '@timhaldane7588\\n6 years ago', '@fruppy\\n6 years ago', '@centralprocessingunit2564\\n6 years ago', '@markkrul3429\\n6 years ago', '@fiqrizain3525\\n6 years ago', '@account-not-found-try-again\\n6 years ago', '@c-note4146\\n5 years ago', '@nuclearmusic77\\n5 years ago', '@brianevolved2849\\n5 years ago', '@brianevolved2849\\n5 years ago', '@PrinceJJGoated\\n5 years ago', '@johnnybegood1569\\n5 years ago', '@BrianWachter\\n5 years ago', '@Knightfire66\\n5 years ago', '@samuraiking7\\n5 years ago', '@serdlc64\\n5 years ago', '@lpmorgan90\\n5 years ago', '@nicholaslokos7949\\n5 years ago', '@nicholaslokos7949\\n5 years ago', '@77Avadon77\\n5 years ago', '@jakeschleifer1303\\n5 years ago', '@77Avadon77\\n5 years ago', '@tavinwong7312\\n5 years ago', '@BirdTurdMemes\\n4 years ago', '@stephenadair8356\\n4 years ago', '@77Avadon77\\n4 years ago', '@stephenadair8356\\n4 years ago', '@bhavesh916\\n3 years ago', '@user-si2ps3qk2r\\n11 months ago', '@rickywright8993\\n2 years ago', '@2tangoplsty613\\n5 years ago (edited)', '@themadclown9129\\n5 years ago', '@camilor5085\\n5 years ago', '@EUTalks\\n4 years ago', '@grateug6887\\n4 years ago', '@moonkookie1505\\n4 years ago', '@calebmaxwell6501\\n4 years ago', '@spectralisation\\n4 years ago', '@samurais.a.s9682\\n4 years ago', '@oaianeagranet\\n4 years ago', '@dipo2142\\n4 years ago', '@nathannakaji970\\n4 years ago', '@vyshnavprakash4906\\n4 years ago', '@ryan-ih5bq\\n4 years ago', '@MansSuperPower\\n4 years ago', '@t.j.eichbruch8890\\n4 years ago', '@aloks3371\\n4 years ago', '@aloks3371\\n4 years ago', '@David-un4cs\\n4 years ago', '@David-un4cs\\n4 years ago', '@steberg341993\\n4 years ago', '@deadpoolthepsycho_________2428\\n4 years ago', '@cuac5869\\n4 years ago', '@deadpoolthepsycho_________2428\\n4 years ago', '@ottawahawk973\\n4 years ago', '@TahirAli-ri3hn\\n4 years ago', '@TahirAli-ri3hn\\n4 years ago', '@satendra007\\n4 years ago', '@happygilmore2100\\n4 years ago', '@iramsaqib599\\n4 years ago', '@BharathKumar-uu3fs\\n4 years ago', '@stuartdparnell\\n4 years ago', '@jayantimishra275\\n1 year ago', '@ElonReeveMusk001\\n1 year ago', '@Kn1ghTyt\\n9 months ago', '@kikimora573\\n7 years ago', '@Methylglyoxal\\n7 years ago', '@DevinDTV\\n7 years ago (edited)', '@shway1\\n7 years ago', '@SomeNiceMovies\\n7 years ago', '@gamaltk\\n7 years ago', '@DevinDTV\\n7 years ago', '@kikimora573\\n7 years ago', '@Methylglyoxal\\n7 years ago (edited)', '@DevinDTV\\n7 years ago (edited)', '@Methylglyoxal\\n7 years ago (edited)', '@DevinDTV\\n7 years ago', '@Methylglyoxal\\n7 years ago', '@gregorycropper9521\\n7 years ago', '@crazy_sauer\\n7 years ago', '@Astuar\\n7 years ago', '@retro527\\n7 years ago', '@a0000a1234\\n6 years ago', '@abelgraham5828\\n6 years ago', '@mutchheritage\\n5 years ago', '@elonramsay2406\\n5 years ago', '@explodingfiregaming\\n5 years ago', '@GA-ju7hf\\n5 years ago', '@peterfitzgerald5402\\n5 years ago', '@xachperkins4842\\n5 years ago', '@iciclefox9901\\n5 years ago', '@M1GYT\\n5 years ago', '@elonramsay2406\\n5 years ago', '@SaiKiran-vm2jm\\n5 years ago', '@garcia9903\\n5 years ago', '@GA-ju7hf\\n5 years ago', '@GA-ju7hf\\n5 years ago', '@GA-ju7hf\\n5 years ago', '@GA-ju7hf\\n5 years ago', '@xachperkins4842\\n5 years ago', '@garcia9903\\n5 years ago', '@GA-ju7hf\\n5 years ago', '@GA-ju7hf\\n5 years ago (edited)', '@xachperkins4842\\n5 years ago', '@xachperkins4842\\n5 years ago', '@pizzawarrior4974\\n5 years ago', '@GA-ju7hf\\n5 years ago', '@beverlygail9169\\n5 years ago', '@beverlygail9169\\n5 years ago', '@GA-ju7hf\\n5 years ago', '@pizzawarrior4974\\n5 years ago', '@GA-ju7hf\\n5 years ago', '@pizzawarrior4974\\n5 years ago', '@250txc\\n5 years ago', '@kaien800\\n4 years ago', '@GA-ju7hf\\n4 years ago', '@kaien800\\n4 years ago', '@kukifitte7357\\n3 years ago', '@rohankhanna4348\\n3 years ago', '@noone7304\\n3 years ago', '@aaronye4857\\n1 year ago', '@aaronye4857\\n1 year ago (edited)', '@triggeredinsaanshorts1848\\n5 months ago', '@olivermakower2479\\n4 years ago', '@TheKing-nu3hf\\n4 years ago', '@Ramneek22\\n4 years ago', '@Argentvs\\n4 years ago (edited)', '@xijingpooh5879\\n4 years ago (edited)', '@jeffvader811\\n4 years ago (edited)', '@gameplay9226\\n4 years ago (edited)', '@djrascal445\\n4 years ago', '@pradeepnagila3332\\n4 years ago', '@izzuddinafif\\n4 years ago', '@tomtrippier8148\\n4 years ago', '@ramzisabra9235\\n4 years ago (edited)', '@emilyliu9071\\n4 years ago', '@xijingpooh5879\\n4 years ago', '@MrSkrifle\\n4 years ago', '@Vyscera\\n4 years ago', '@MrSkrifle\\n4 years ago (edited)', '@MrSkrifle\\n4 years ago (edited)', '@Prince-gb5lr\\n2 years ago', '@MaigoManville\\n7 years ago', '@calebmartinez651\\n6 years ago', '@mamba101\\n6 years ago', '@umutcanuygun\\n6 years ago', '@masonwolff9724\\n2 years ago', '@jatinpatel6562\\n2 months ago', '@lh2000\\n7 years ago', '@cragnog\\n7 years ago', '@xanderclemente6250\\n7 years ago', '@Meatchop\\n7 years ago', '@krishnacdunuka\\n7 years ago', '@stevethea5250\\n5 years ago', '@jayantimishra275\\n1 year ago', '@MrHash97\\n5 years ago', '@brendan8525\\n5 years ago', '@bambooindark1\\n5 years ago', '@fearlesslyawakened5064\\n5 years ago', '@bringthedarth\\n5 years ago', '@brendan8525\\n5 years ago', '@official.sourav_mohanty\\n1 year ago', '@ElonReeveMusk001\\n1 year ago', '@user-yt4mm4db3b\\n1 year ago', '@Adytzu004\\n7 years ago', '@jasonpampanella65\\n5 years ago', '@neanda\\n4 years ago', '@redlights1904\\n4 years ago', '@ks-ou3qu\\n1 month ago', '@suziq8649\\n2 years ago (edited)', '@calvinrichards136\\n6 years ago', '@AlexanderMoen\\n7 years ago', '@zachhutch2027\\n6 years ago', '@Stonehawk\\n6 years ago', '@jacqueslavoie6392\\n6 years ago', '@mosteller1953\\n6 years ago', '@jacqueslavoie6392\\n6 years ago', '@channelforpositivitylunder9385\\n6 years ago', '@edbenti5007\\n6 years ago', '@gamemeister27\\n6 years ago', '@Davee774\\n6 years ago', '@JohnDoeTheGoodGuy\\n6 years ago', '@jakobpadberg3257\\n6 years ago', '@dreamingoffreedom2462\\n6 years ago', '@starkrush\\n6 years ago', '@starkrush\\n6 years ago', '@starkrush\\n6 years ago', '@pratyushjha1389\\n6 years ago', '@pratyushjha1389\\n6 years ago', '@starkrush\\n6 years ago', '@pratyushjha1389\\n6 years ago', '@B1gLupu\\n6 years ago', '@sanzmoses9757\\n6 years ago', '@koolaidjerk\\n6 years ago', '@B1gLupu\\n6 years ago', '@koolaidjerk\\n6 years ago', '@pratyushjha1389\\n6 years ago', '@koolaidjerk\\n6 years ago (edited)', '@KungFuChopstick\\n6 years ago', '@c-note4146\\n5 years ago', '@StephanPluemer\\n5 years ago', '@JayR-ct8pv\\n4 years ago', '@joshmcgill436\\n4 years ago', '@joebeaver852\\n3 years ago', '@gveronjj755\\n3 years ago', '@michaelmorgan3134\\n2 years ago', '@lourdessilva6442\\n9 months ago', '@sandip471\\n3 years ago', '@fresh646\\n3 years ago', '@spiceydice6968\\n3 years ago (edited)', '@we8608\\n3 years ago', '@arabithegreat4364\\n3 years ago', '@fd7854\\n3 years ago', '@nishanthy506\\n4 years ago', '@JayR-ct8pv\\n4 years ago', '@neverstoplearning14\\n4 years ago', '@laurionline\\n4 years ago', '@AT-oh3yy\\n4 years ago', '@tylerzyla9973\\n4 years ago', '@opticfiber2715\\n4 years ago', '@imamastermind\\n4 years ago', '@suanlsrm6488\\n4 years ago', '@neverstoplearning14\\n4 years ago', '@nikolasm4668\\n4 years ago', '@avery.s7681\\n4 years ago', '@Gabriel.4190\\n4 years ago', '@nikolasm4668\\n4 years ago', '@ArhanKhan61678\\n3 years ago', '@shivikamal\\n3 years ago', '@crap_bag_trust\\n3 years ago', '@alchene321\\n3 years ago', '@thelittlerossy9289\\n3 years ago', '@laurionline\\n3 years ago', '@gamertechguy8898\\n3 years ago', '@theguru8376\\n3 years ago', '@tgshark1\\n3 years ago', '@neverstoplearning14\\n3 years ago', '@ndaofficialchannel7159\\n3 years ago', '@bradenclark6789\\n3 years ago (edited)', '@arielatartakovsky\\n3 years ago', '@nikhilkamble7585\\n3 years ago', '@bibipop3190\\n3 years ago', '@origirox\\n3 years ago (edited)', '@klaus6178\\n3 years ago', '@antoniowebmaster9383\\n3 years ago', '@singalexsong\\n3 years ago', '@odinfeehcu1984\\n3 years ago', '@sharonfayeflores1349\\n3 years ago', '@andrewfazenbaker8210\\n3 years ago', '@andrewfazenbaker8210\\n3 years ago (edited)', '@onealrocky70\\n3 years ago', '@8koi245\\n3 years ago', '@antiquarian1773\\n3 years ago', '@travelubs\\n3 years ago', '@pkendlers\\n3 years ago', '@lunatuna5203\\n2 years ago', '@vebtrex9416\\n2 years ago', '@davidrodriguez1333\\n2 years ago', '@frostyfingers3040\\n2 years ago', '@realdealholyfield9616\\n2 years ago', '@Connorwhatever\\n2 years ago', '@wendycrawford1792\\n2 years ago', '@wendycrawford1792\\n2 years ago', '@sarahnewcomb738\\n2 years ago', '@gloriatemael7221\\n1 year ago', '@sandy-rr1by\\n2 years ago', '@36ninaddhuri29\\n5 years ago', '@BlazedAFGaming\\n5 years ago', '@36ninaddhuri29\\n5 years ago', '@BlazedAFGaming\\n5 years ago', '@36ninaddhuri29\\n5 years ago', '@BlazedAFGaming\\n5 years ago (edited)', '@36ninaddhuri29\\n5 years ago', '@BrianWachter\\n5 years ago', '@Monkeyradar\\n5 years ago', '@Malkovith2\\n5 years ago', '@Miistiic\\n5 years ago', '@ClaireDo711\\n7 years ago', '@DIGITALBUSINESS-xp7xd\\n4 months ago', '@user-hl2oy6ss7o\\n2 years ago', '@btllofaro\\n5 years ago', '@user-es6bn1we5z\\n5 years ago', '@loveutube04\\n5 years ago', '@OscarStigen\\n5 years ago', '@truecrimewithglenclark9098\\n7 years ago', '@sertaki\\n7 years ago', '@yichienchang4627\\n7 years ago', '@MrHarumakiSensei\\n7 years ago', '@fredex8\\n7 years ago', '@ryadh456\\n7 years ago', '@cosmicmuffet1053\\n7 years ago', '@josephpelley2161\\n7 years ago', '@JerryLiuYT\\n7 years ago', '@mattias2576\\n7 years ago', '@tim19962\\n7 years ago', '@aaaronjacob\\n7 years ago', '@ZhoRZh37\\n7 years ago', '@Ryan.Huntley\\n7 years ago', '@hydra5758\\n6 years ago', '@toakz\\n6 years ago', '@just1it1moko\\n6 years ago', '@PiroSly\\n6 years ago', '@lozicrazy\\n6 years ago (edited)', '@naturalallnaturalwhitepist1789\\n6 years ago', '@evolati12\\n6 years ago', '@liamwalton4183\\n5 years ago (edited)', '@NikhilBhatta07\\n4 years ago', '@collinforce1269\\n4 years ago', '@collinforce1269\\n4 years ago', '@Ignasimp\\n4 years ago', '@translucentneon1077\\n4 years ago', '@sarthakjoshi693\\n4 years ago', '@emlynselene1096\\n4 years ago', '@facuczypusak3594\\n4 years ago', '@AFGXBX\\n4 years ago', '@LoudValves\\n4 years ago', '@thatguyjd14\\n4 years ago', '@futureselftherapy\\n4 years ago', '@Cars-N-Jets\\n4 years ago', '@gachadanger380\\n4 years ago', '@thatguyjd14\\n4 years ago', '@debroopsarkar4613\\n3 years ago', '@amyjones1119\\n3 years ago', '@amyjones1119\\n3 years ago', '@mohdmanzarabbas6356\\n3 years ago', '@mle1872\\n3 years ago', '@johnc6786\\n3 years ago', '@justsomepersononyoutube9271\\n3 years ago', '@tubeyou89119\\n3 years ago', '@striv3102\\n3 years ago', '@osamabinladen824\\n3 years ago', '@sameenapatel7558\\n3 years ago', '@sameenapatel7558\\n3 years ago', '@devanshsharma346\\n3 years ago', '@sisir360\\n3 years ago', '@TheFalshGordon\\n3 years ago', '@dasein9980\\n3 years ago', '@danielmonge2318\\n3 years ago', '@sy20000\\n3 years ago', '@Neb_Explains\\n3 years ago', '@InvestorPatricia\\n3 years ago', '@ericravhandalala9691\\n3 years ago', '@johnc6786\\n3 years ago', '@InvestorPatricia\\n3 years ago (edited)', '@ericwood3709\\n3 years ago', '@handijobe1076\\n3 years ago', '@johnc6786\\n3 years ago', '@Roger-hu4tk\\n3 years ago', '@munjid2909\\n3 years ago', '@theodroszerihunlakew2872\\n3 years ago', '@vaalarivan_p\\n3 years ago', '@Weirdlifee\\n3 years ago', '@avijitkabiraj2187\\n3 years ago', '@dadafish1\\n3 years ago', '@0711mama\\n3 years ago', '@munjid2909\\n3 years ago', '@VectorOfKnowledge\\n3 years ago', '@IceColdProfessional\\n3 years ago', '@VectorOfKnowledge\\n3 years ago', '@jackbragg547\\n3 years ago', '@Weirdlifee\\n3 years ago', '@MaximumEfficiency\\n3 years ago', '@finnyburr\\n3 years ago', '@waynesetiawan2794\\n2 years ago', '@monserrat9936\\n2 years ago', '@Xaea12262\\n1 year ago', '@rajnehra\\n1 year ago', '@grandmalovesmebest\\n1 year ago', '@grandmalovesmebest\\n1 year ago', '@grandmalovesmebest\\n1 year ago', '@TheFalshGordon\\n1 year ago', '@Jaded_Mandarin\\n1 year ago', '@Curiousviewer22\\n1 year ago', '@carllelendt5452\\n1 year ago', '@erikdukefoss\\n7 years ago', '@chrishansen236\\n7 years ago', '@spectrum503\\n7 years ago', '@benjaminchiozalde3414\\n7 years ago', '@Hazcool45\\n7 years ago', '@jorgebernal8741\\n7 years ago', '@centralprocessingunit2564\\n6 years ago', '@JosueC730\\n4 years ago', '@LaFlaneuse0\\n4 years ago', '@SELFREALIZATED\\n4 years ago', '@JayR-ct8pv\\n4 years ago', '@reiramessi\\n4 years ago', '@polpol1005\\n2 years ago', '@shawmcinroy472\\n6 years ago', '@FRIDDAY25\\n6 years ago', '@deleteme8774\\n6 years ago', '@grthorn3461\\n6 years ago', '@deleteme8774\\n6 years ago', '@grthorn3461\\n6 years ago', '@deleteme8774\\n6 years ago', '@grthorn3461\\n6 years ago', '@than217\\n6 years ago', '@grthorn3461\\n6 years ago', '@deleteme8774\\n6 years ago', '@coolerrrrrrrrrrrrrrr\\n6 years ago', '@grthorn3461\\n6 years ago', '@Bidmartinlo\\n6 years ago', '@readytogo52\\n6 years ago', '@RADSHORTS\\n6 years ago', '@ruff2play\\n6 years ago', '@AxelBrass\\n6 years ago', '@robinhyperlord9053\\n5 years ago', '@chargerwith22s\\n5 years ago', '@mona-pu8dy\\n5 years ago', '@thiagofaleiroparente\\n5 years ago', '@sg_1541\\n4 years ago', '@user-ng2xz2gw3z\\n1 year ago', '@lazybone8584\\n2 years ago', '@clintoruss153\\n2 years ago', '@tryeue1285\\n2 years ago', '@TheMcMiodzio\\n2 years ago', '@stephaniehall4953\\n2 years ago', '@afs0073\\n2 years ago', '@xvor_tex8577\\n2 years ago', '@xvor_tex8577\\n2 years ago', '@themichael3105\\n2 years ago', '@xvor_tex8577\\n2 years ago', '@pinrayi7909\\n2 years ago', '@bettylaygo3700\\n2 years ago', '@theCreativeSav\\n2 years ago', '@tomas-cw4ec\\n2 years ago', '@maybeno4099\\n2 years ago', '@alexandrumacedon291\\n2 years ago', '@alexandrumacedon291\\n2 years ago', '@Pluto60\\n2 years ago', '@spyke7960\\n2 years ago', '@Wanda_Jannette\\n2 years ago', '@dwgherkemasnurdbird4803\\n2 years ago', '@willywonka077\\n2 years ago', '@HaiderAliKhan\\n5 years ago', '@golkeeper8517\\n4 years ago', '@golkeeper8517\\n4 years ago', '@privatetrash2810\\n4 years ago', '@achyuththouta6957\\n4 years ago', '@prabhsodhi5402\\n4 years ago', '@baltofarlander2618\\n4 years ago', '@mimiabdo7159\\n4 years ago', '@anishabisht4213\\n4 years ago', '@skipperofschool8325\\n4 years ago', '@skipperofschool8325\\n4 years ago', '@Lalo_thr\\n4 years ago', '@skipperofschool8325\\n4 years ago', '@tmt3969\\n4 years ago', '@FunnyMemes-dr3se\\n4 years ago', '@kumardigvijaymishra5945\\n4 years ago', '@Masterbaiter1000\\n4 years ago', '@baltofarlander2618\\n4 years ago', '@nicolasfranco7769\\n4 years ago', '@emilia-emma.\\n3 years ago', '@dondragmer2412\\n2 years ago', '@florchavez2119\\n10 months ago', '@ElonMusk-hc1ls\\n10 months ago', '@jinyoung1900\\n6 years ago', '@TheBrownTable528\\n6 years ago', '@keystothebox\\n6 years ago', '@user-yd1jw7tf2i\\n6 years ago', '@GodSincerityStar\\n3 years ago', '@dejandow4644\\n3 years ago', '@hitormisshuh\\n3 years ago', '@diane7912\\n3 years ago', '@TempoGoHard\\n3 years ago', '@progsea\\n3 years ago', '@casparzwart1987\\n3 years ago', '@MS-st1zb\\n3 years ago', '@bigb0ss282\\n3 years ago', '@oohlala5460\\n3 years ago', '@marjineptune5259\\n3 years ago', '@marjineptune5259\\n3 years ago', '@stephenpetet2774\\n3 years ago', '@philipcho4997\\n2 years ago (edited)', '@paulinenathan9909\\n2 years ago', '@Mik-kv8xx\\n2 years ago', '@act2wasstronger182\\n2 years ago', '@393Dan\\n6 years ago', '@harbirsingh7266\\n4 years ago', '@Anonymous_UserOrNot\\n4 years ago', '@adityachaubey8590\\n4 years ago', '@frontierzz\\n4 years ago', '@clarencearongono2840\\n4 years ago', '@5mk854\\n4 years ago', '@alchemist6819\\n4 years ago', '@NoName-py8yk\\n3 years ago', '@mythoughts5615\\n2 years ago', '@user-ju8ip6fh1g\\n1 year ago', '@doodad\\n5 years ago', '@Unknown-lu2ft\\n5 years ago', '@femena11\\n5 years ago', '@Appleseed222\\n5 years ago', '@lpmorgan90\\n5 years ago', '@tamaragarrett3625\\n5 years ago', '@arioncivilization7075\\n5 years ago (edited)', '@leinadderaufschlussige151\\n5 years ago', '@morgankaplan1580\\n5 years ago', '@vaaleri\\n5 years ago', '@user-ic4oh5wb1c\\n5 years ago', '@user-mc2gm6fz9i\\n5 years ago', '@OneNutWonder1\\n5 years ago', '@cecilmcintosh864\\n5 years ago', '@syedumair4622\\n5 years ago', '@250txc\\n5 years ago', '@jenni8032\\n4 years ago', '@imonceagainaskingforyourfi4432\\n4 years ago', '@lordofnight9377\\n2 years ago', '@calebalbiston8625\\n2 years ago', '@pamelamarabini8014\\n2 years ago', '@maxwilks7583\\n2 years ago', '@teresawilliamson9377\\n2 years ago', '@ptk4354\\n5 years ago (edited)', '@stefan-haas\\n5 years ago', '@fesimco4339\\n5 years ago', '@dankmemes7658\\n5 years ago', '@fesimco4339\\n5 years ago', '@dankmemes7658\\n5 years ago', '@fesimco4339\\n5 years ago', '@dankmemes7658\\n5 years ago', '@fesimco4339\\n5 years ago', '@dankmemes7658\\n5 years ago', '@MrVashsword\\n5 years ago', '@MrVashsword\\n5 years ago', '@MrVashsword\\n5 years ago', '@dankmemes7658\\n5 years ago', '@youresostupid1\\n5 years ago', '@imthrillz5255\\n5 years ago', '@solarismortum383\\n5 years ago', '@zerk1044\\n5 years ago', '@samuelbohl1\\n5 years ago', '@NG-nf2mz\\n5 years ago', '@fesimco4339\\n5 years ago', '@maxkarp6758\\n5 years ago', '@user-lp7cf9wq5x\\n5 years ago', '@aaronsandman749\\n5 years ago', '@fesimco4339\\n5 years ago', '@aaronsandman749\\n5 years ago', '@fesimco4339\\n5 years ago', '@aaronsandman749\\n5 years ago', '@fesimco4339\\n5 years ago', '@treeinafield5022\\n5 years ago', '@maxthomas-bland4842\\n5 years ago (edited)', '@treeinafield5022\\n5 years ago', '@maxthomas-bland4842\\n5 years ago', '@Michael-ig4hr\\n5 years ago', '@xsavvy_-frml1538\\n5 years ago', '@andyakarudolfhessiansack7936\\n5 years ago', '@valiok9880\\n5 years ago', '@FitnessBulls\\n5 years ago', '@fesimco4339\\n5 years ago', '@anandsuralkar2947\\n5 years ago', '@anandsuralkar2947\\n5 years ago', '@anandsuralkar2947\\n5 years ago', '@anandsuralkar2947\\n5 years ago', '@fesimco4339\\n5 years ago', '@ronjaybarnett\\n5 years ago', '@onedadimce7664\\n1 year ago', '@Digitalgovermentdreams\\n6 months ago', '@markbates5157\\n4 years ago', '@belac46\\n7 years ago', '@mrclrpnt\\n7 years ago', '@rajapurva2012\\n7 years ago', '@poumakis\\n7 years ago', '@27devarshi\\n7 years ago', '@simoncarlile5190\\n7 years ago (edited)', '@anaag2682\\n7 years ago', '@RyanHall42\\n7 years ago', '@dustinmaynard1\\n7 years ago', '@robertsink1323\\n7 years ago', '@blackpower6654\\n6 years ago', '@Triumvirate3\\n6 years ago', '@SoorajSuseelan10001\\n6 years ago', '@iwaswithyourmom9410\\n6 years ago', '@mcmenace4847\\n2 years ago', '@eonryan8491\\n1 year ago (edited)', '@adityakothari7466\\n7 years ago', '@sirpharsys6541\\n7 years ago', '@vijaz5559\\n7 years ago', '@mikesnow285\\n7 years ago', '@sucim\\n7 years ago', '@reider0608\\n6 years ago', '@stevethea5250\\n5 years ago', '@olesdatsko6875\\n7 years ago', '@shobmar\\n6 years ago', '@rickywright8993\\n2 years ago', '@ckck5923\\n1 year ago', '@keerthivasvenkatesan1739\\n5 years ago', '@lifethrownoutofthewindow\\n4 years ago', '@Jafar0YT\\n4 years ago', '@natsoph1924\\n4 years ago', '@lukelader\\n4 years ago', '@adityamenon6365\\n2 years ago', '@mariaherradi8732\\n2 years ago', '@edwardsnowden2177\\n2 years ago', '@juliebergacker5680\\n2 years ago', '@ashercheng1556\\n2 years ago', '@unicapuellae1965\\n2 years ago', '@goldenmagnolia333\\n2 years ago', '@lashvalore9299\\n2 years ago', '@shanemaddocks4626\\n2 years ago', '@shanemaddocks4626\\n2 years ago', '@mykehog6646\\n2 years ago', '@msolgonza\\n2 years ago', '@yashaswikulshreshtha1588\\n2 years ago', '@andyjensen2497\\n2 years ago', '@jmcoday1\\n2 years ago', '@hassanyahya400\\n1 year ago', '@BlankKnight\\n6 years ago', '@Marina_DU\\n6 years ago', '@mrmangolele8574\\n5 years ago', '@telegnazatlqm3972\\n5 years ago (edited)', '@XavlaminYT\\n5 years ago', '@ikecalle\\n5 years ago', '@timothyegoroff8333\\n5 years ago', '@JonathanRodriguez-ol3bb\\n5 years ago', '@kshaq3331\\n5 years ago', '@parker469a\\n5 years ago', '@leonblythe5109\\n5 years ago', '@maimkim\\n5 years ago', '@elonhusk5203\\n5 years ago', '@mikedaskalakis5006\\n5 years ago', '@mimiyama5828\\n5 years ago', '@leaderbad1548\\n4 years ago', '@manormanman7092\\n4 years ago', '@Miknaes94\\n4 years ago', '@mimiyama5828\\n4 years ago', '@souravtambe5743\\n4 years ago', '@truthseeker149\\n3 years ago', '@nedyalkokarabadzhakov5405\\n2 years ago', '@Zyxeze\\n2 years ago', '@wenzor\\n7 years ago', '@PassportGaming\\n6 years ago', '@DylansDIYWorkshop\\n6 years ago', '@manaeiou\\n7 years ago', '@skywalker2837\\n6 years ago (edited)', '@hauntedshadowslegacy2826\\n6 years ago', '@vapekitty\\n6 years ago', '@SebsyTheGamer\\n6 years ago', '@CamKnoppMusic\\n6 years ago', '@samkitoswal3281\\n6 years ago', '@KitZunekaze\\n6 years ago', '@RightySnipeZ\\n6 years ago', '@craigdougan8484\\n6 years ago', '@hutch2210\\n6 years ago', '@jordannemelka6231\\n6 years ago', '@ericelmquist933\\n5 years ago', '@ZachariahMBaird\\n4 years ago', '@MaxxerG\\n4 years ago', '@noobiebro7266\\n4 years ago', '@moonkookie1505\\n4 years ago', '@scientificmultiverse6218\\n4 years ago', '@Andy-dd2du\\n4 years ago', '@deleriumslayer4931\\n4 years ago', '@JayR-ct8pv\\n4 years ago', '@cgme7076\\n3 years ago', '@marios9824\\n3 years ago', '@marios9824\\n3 years ago', '@marios9824\\n3 years ago (edited)', '@marios9824\\n3 years ago', '@SebsyTheGamer\\n3 years ago (edited)', '@marios9824\\n3 years ago', '@TheSeta012\\n3 years ago', '@debbiedon-pierrot4809\\n3 years ago', '@jimmorrison5520\\n3 years ago', '@montanas4174\\n3 years ago', '@karimoon5323\\n3 years ago', '@Raj-wf6ln\\n3 years ago', '@Rose-zf9md\\n1 month ago (edited)', '@MrBotteh\\n1 year ago', '@tklxyzng9930\\n4 years ago', '@benookand4141\\n3 years ago', '@cynetteblove\\n3 years ago', '@A_Different_ViewPoint.\\n3 years ago', '@philipmeyer7402\\n3 years ago', '@ArtificialHuman69\\n3 years ago', '@cynetteblove\\n3 years ago', '@ArtificialHuman69\\n3 years ago', '@cynetteblove\\n3 years ago', '@ArtificialHuman69\\n3 years ago', '@ArtificialHuman69\\n3 years ago', '@user-lb4pe8hh8y\\n3 years ago', '@ferroverse2343\\n3 years ago', '@philipmeyer7402\\n3 years ago', '@PatMofRockies\\n3 years ago (edited)', '@tklxyzng9930\\n3 years ago', '@PatMofRockies\\n3 years ago', '@tumblingman28\\n3 years ago', '@alexlopez5800\\n3 years ago', '@alexbecerra1023\\n3 years ago', '@sharliah\\n3 years ago', '@Mohammadali_9999\\n3 years ago', '@tklxyzng9930\\n3 years ago', '@Mohammadali_9999\\n3 years ago', '@tklxyzng9930\\n3 years ago', '@mikebar42\\n3 years ago', '@tklxyzng9930\\n3 years ago', '@picchipakodi\\n3 years ago', '@tklxyzng9930\\n3 years ago', '@natesnacks7829\\n3 years ago', '@kforest2745\\n3 years ago', '@atharvsharma7648\\n3 years ago', '@kforest2745\\n3 years ago (edited)', '@kforest2745\\n3 years ago', '@atharvsharma7648\\n3 years ago (edited)', '@luke7503\\n3 years ago', '@kforest2745\\n3 years ago', '@luke7503\\n3 years ago', '@JesterAzazel\\n3 years ago', '@---by9sb\\n3 years ago', '@gadamhudayberdi4223\\n3 years ago', '@gadamhudayberdi4223\\n3 years ago (edited)', '@gadamhudayberdi4223\\n3 years ago', '@trepcsuit\\n3 years ago', '@samibee1574\\n3 years ago', '@americogracia8115\\n3 years ago', '@tklxyzng9930\\n3 years ago', '@americogracia8115\\n3 years ago (edited)', '@tklxyzng9930\\n3 years ago', '@d.hildebrandella755\\n3 years ago', '@Krystalmyth\\n3 years ago', '@felixpotter6420\\n3 years ago (edited)', '@mohitshetty8535\\n3 years ago', '@franekorlowski5410\\n3 years ago (edited)', '@HarshRaj-xd6ix\\n3 years ago', '@masha.8284\\n3 years ago', '@CryptoCaliph\\n3 years ago', '@roake0331\\n5 years ago', '@userworld3612\\n5 years ago', '@botanyninja6707\\n5 years ago', '@kebabmarley2505\\n5 years ago', '@themagicman6965\\n5 years ago', '@user-kw7ij4mx6b\\n5 years ago', '@MrsLauraKey\\n5 years ago', '@Shark-kawaii104\\n5 years ago', '@I-P-777\\n5 years ago', '@AriKariG\\n5 years ago', '@TwoWholeWorms\\n5 years ago', '@dillonweaver5768\\n5 years ago', '@Living_Sushi\\n5 years ago', '@Pro9pix\\n5 years ago', '@datnigga7322\\n5 years ago', '@joshygray4000\\n5 years ago', '@RaySparks21\\n5 years ago', '@nickilovesdogs8137\\n5 years ago', '@nickilovesdogs8137\\n5 years ago', '@nickilovesdogs8137\\n5 years ago', '@nickilovesdogs8137\\n5 years ago', '@nickilovesdogs8137\\n5 years ago (edited)', '@Toni-ux3xo\\n5 years ago', '@johnnybegood1569\\n5 years ago (edited)', '@dpapaioannow\\n5 years ago', '@dpapaioannow\\n5 years ago', '@WhiteRescuer\\n5 years ago', '@talha.97\\n5 years ago', '@BladeTheSuperior\\n5 years ago', '@BladeTheSuperior\\n5 years ago', '@americanengineering2063\\n5 years ago', '@xxkhaliyxxxox3553\\n5 years ago', '@marshsherrif2824\\n5 years ago', '@soygato2722\\n5 years ago', '@robertomigueldeoro821\\n5 years ago', '@rekhaza\\n5 years ago', '@yubbeajigaboo3371\\n5 years ago', '@Mad_S\\n5 years ago', '@danielmakota9807\\n5 years ago', '@Khanate0825\\n5 years ago', '@JayR-ct8pv\\n4 years ago', '@x12624\\n4 years ago', '@mrmogul1771\\n3 years ago', '@wilspu5590\\n3 years ago', '@sandrafoxley735\\n3 years ago', '@schtggl6265\\n3 years ago', '@ShadowTwister28\\n3 years ago', '@hewillneverleaveme.4564\\n3 years ago', '@jade3866\\n3 years ago', '@jacobanderson1911\\n3 years ago', '@cynthiapascoe1670\\n3 years ago', '@3dgar7eandro\\n3 years ago', '@muzzikkluvvr2327\\n3 years ago', '@waseeuddinsun3211\\n3 years ago', '@waynesetiawan2794\\n2 years ago', '@donthompson9862\\n2 years ago', '@grimfandango6137\\n2 years ago', '@whitneyperdue3916\\n2 years ago', '@JustSirDave\\n1 year ago', '@petraanna9272\\n1 year ago', '@test-jt5el\\n3 years ago', '@anastasiachernova7878\\n3 years ago', '@paulcontreras3465\\n3 years ago', '@blazednlovinit\\n3 years ago', '@strafxe7738\\n3 years ago', '@paulcontreras3465\\n3 years ago', '@ci6516\\n3 years ago', '@austinshire7297\\n3 years ago', '@Solbashio\\n3 years ago', '@glenrandall7090\\n3 years ago', '@sirgallabad\\n3 years ago (edited)', '@alisontunny9362\\n3 years ago', '@bhumikamalik8154\\n3 years ago', '@ericsuzuki8966\\n3 years ago', '@rehaan6428\\n3 years ago', '@PriyankitaPant\\n3 years ago', '@Patrick-uo1yv\\n3 years ago', '@reallife6711\\n3 years ago', '@hungtran-mb4xb\\n3 years ago', '@bobbybower9405\\n3 years ago', '@dominickfarina\\n3 years ago', '@bobbybower9405\\n3 years ago', '@bobbybower9405\\n3 years ago', '@teakytube7179\\n3 years ago', '@sy20000\\n3 years ago', '@sy20000\\n3 years ago', '@davidplummer7302\\n4 years ago', '@neanda\\n4 years ago', '@lytra4586\\n4 years ago', '@tbn22\\n4 years ago', '@kvltizt\\n4 years ago', '@tbn22\\n4 years ago', '@tbn22\\n4 years ago', '@clarencekaant8005\\n4 years ago', '@dustyviers00\\n4 years ago', '@RusFarFaz\\n4 years ago', '@mementocatharsis9372\\n4 years ago', '@samuelharcar3595\\n4 years ago', '@leyren2606\\n4 years ago', '@taekyuntimkim2698\\n4 years ago', '@Deady4u\\n4 years ago', '@SB-ur7ro\\n4 years ago', '@lonzo2389\\n4 years ago', '@yvonnedouglas3258\\n4 years ago', '@ericwilliam1698\\n4 years ago', '@TheBaldyheed\\n4 years ago', '@mikerichards2098\\n4 years ago', '@MansSuperPower\\n4 years ago', '@mattdunbar4829\\n4 years ago', '@Jak_Extreme\\n4 years ago', '@deadpoolthepsycho_________2428\\n4 years ago', '@deleriumslayer4931\\n4 years ago (edited)', '@williamzimmerman8713\\n2 years ago', '@hannathegrace\\n2 years ago', '@monlan2001\\n2 years ago', '@wendycrawford1792\\n2 years ago', '@warriorprincessharmony\\n1 year ago', '@warriorprincessharmony\\n1 year ago', '@aruptimeworkbrainchangebil1125\\n1 year ago', '@ucanhduong1246\\n1 year ago (edited)', '@adityabhambhani207\\n4 years ago', '@atlasname8857\\n3 years ago', '@Stellar-Cowboy\\n3 years ago', '@elektra81516\\n3 years ago', '@Itz_THEFUNNYKIDS\\n3 years ago', '@marios9824\\n3 years ago', '@marios9824\\n3 years ago', '@tomahawk_nole1343\\n3 years ago', '@caveninjas13\\n6 years ago', '@florianlenz4889\\n6 years ago', '@axeaclick\\n6 years ago', '@konii2541\\n6 years ago', '@ok-vt5nl\\n5 years ago', '@ok-vt5nl\\n5 years ago', '@zzzpiral\\n1 year ago', '@paulinenathan9909\\n2 years ago', '@Alexisasful\\n5 years ago', '@arete4390\\n5 years ago', '@isaacmancia\\n5 years ago', '@flik1524\\n5 years ago', '@tobir693\\n5 years ago', '@boofy2592\\n5 years ago', '@erichchan3\\n5 years ago', '@Impostor82\\n5 years ago', '@boofy2592\\n5 years ago', '@jeffrycaicedo4964\\n5 years ago', '@achu.b9168\\n5 years ago', '@talibannzru7445\\n5 years ago', '@anandsuralkar2947\\n5 years ago', '@matterridge9222\\n5 years ago', '@DjesonPV\\n5 years ago', '@naveensaragadam2292\\n5 years ago', '@LordDoddka\\n5 years ago', '@Alexisasful\\n5 years ago', '@Alexisasful\\n5 years ago', '@Danirio96\\n5 years ago', '@M1ster.Fr3sh\\n5 years ago', '@michaelpottorff2\\n5 years ago', '@HorizonsleatherBlogspot2012\\n5 years ago', '@sylviohenry107\\n5 years ago', '@diegoarpino2080\\n5 years ago', '@Nate-gh6gp\\n5 years ago', '@killlgrant246\\n5 years ago', '@nicholaslokos7949\\n5 years ago', '@motivemachine8012\\n5 years ago', '@erikmacaluso\\n5 years ago', '@someoneyoudontknow50\\n5 years ago', '@mikebarnes7441\\n5 years ago', '@tnamada3932\\n6 years ago', '@DheerajBhaskar\\n6 years ago', '@goviczek\\n6 years ago', '@randomhiphop5055\\n6 years ago', '@randomhiphop5055\\n6 years ago', '@roberta123465\\n6 years ago', '@edgardmas2261\\n10 months ago', '@ElonMusk-hc1ls\\n10 months ago', '@ElonMusk-tn1qn\\n9 months ago', '@LoveEverything1987\\n10 months ago', '@daeric7572\\n6 years ago', '@MoMindSetCrypto\\n6 years ago', '@allisonscanlan4144\\n6 years ago', '@naphthaitalia\\n6 years ago', '@joeantonyy\\n2 years ago', '@douglaseddy5194\\n2 years ago', '@PhilippeLarcher\\n2 years ago', '@heinzpechliwanis1411\\n2 years ago', '@FLAMEalan\\n2 years ago', '@thehipsterhamster1929\\n2 years ago', '@JeffreyBuchanan8\\n2 years ago', '@omegagamer8589\\n2 years ago', '@sebastianbocanegra3132\\n2 years ago', '@autotechgarage555\\n2 years ago', '@HappyMarshmallowGamingComedy\\n2 years ago', '@oldones59\\n2 years ago', '@debzbpt\\n2 years ago', '@raquelaguayo5584\\n2 years ago', '@FounderOfAiTheNewOrder\\n2 years ago', '@bigmediafan\\n2 years ago', '@sbhm1108\\n2 years ago', '@ocmswillie\\n2 years ago', '@bigmediafan\\n2 years ago', '@bigmediafan\\n2 years ago', '@burt792\\n2 years ago', '@beatrizat6011\\n2 years ago', '@thethinking1\\n2 years ago', '@carlgilbert4920\\n2 years ago', '@jameshayes524\\n2 years ago', '@jameshayes524\\n2 years ago', '@jameshayes524\\n2 years ago', '@sumanpandey397\\n2 years ago', '@lalalala8678\\n2 years ago', '@maremare9366\\n2 years ago', '@jameshayes524\\n2 years ago', '@wilddesigns857\\n2 years ago', '@hivaazizian227\\n2 years ago', '@karengriffin9022\\n2 years ago', '@user-zu2kc9op4v\\n10 months ago', '@ariadukat\\n8 months ago', '@15anshulkumar\\n4 years ago', '@rookieman329\\n4 years ago', '@patricializarazo4081\\n4 years ago', '@maruftim\\n4 years ago', '@prudencelesibe9072\\n4 years ago', '@lloydchristmas1086\\n4 years ago', '@cherokie2091\\n4 years ago', '@AdelinaMonroe\\n4 years ago', '@Super-Saiyan-Blue-Gogeta\\n4 years ago', '@nicogalax\\n4 years ago', '@lloydchristmas1086\\n4 years ago', '@snazzytoast7644\\n4 years ago', '@rohangaonkar8912\\n4 years ago', '@siddhantgarg6899\\n4 years ago', '@rookieman329\\n4 years ago', '@holycrapfreakinsweet\\n4 years ago', '@ericksoncabrera7942\\n4 years ago', '@lloydchristmas1086\\n4 years ago', '@robertschan8650\\n4 years ago', '@NBASFAN\\n4 years ago', '@Alpha555\\n4 years ago', '@99txgh\\n4 years ago', '@bookworm8815\\n4 years ago', '@metascopeinitiatives2550\\n4 years ago', '@manfromearth3577\\n4 years ago', '@metascopeinitiatives2550\\n4 years ago', '@dmwmm\\n4 years ago', '@stanleyweru5171\\n4 years ago', '@kathleenwong3119\\n4 years ago', '@yousifjoo2550\\n4 years ago', '@coolbreez1214\\n4 years ago', '@ramsdankha2174\\n3 years ago (edited)', '@lucymilanova9370\\n3 years ago', '@iamworthlesstrash814\\n3 years ago', '@vuphuongtrinh8875\\n3 years ago', '@highlyfavored2434\\n3 years ago', '@inspire1ove\\n3 years ago', '@qididah1405\\n3 years ago', '@waheedrahman4923\\n3 years ago', '@normanhall156\\n3 years ago', '@user-vp1sz2vj2g\\n3 years ago', '@lloydchristmas1086\\n3 years ago', '@cherbearVR\\n3 years ago', '@vihaandevkar8331\\n3 years ago', '@redefined4657\\n3 years ago', '@karla_roble\\n3 years ago', '@mujibulhaquetanim\\n3 years ago', '@SKILLER6\\n3 years ago', '@HazemElsawy\\n3 years ago', '@vincentmangal6169\\n3 years ago', '@Wirmish\\n3 years ago', '@yousef26w\\n3 years ago', '@jonasjonas22928\\n3 years ago', '@chrispower6425\\n3 years ago', '@zzekeviciute\\n3 years ago', '@annareyes1022\\n3 years ago', '@Marley.Anne.Torres\\n3 years ago', '@turalquliyev9404\\n3 years ago', '@toyam.gibson7653\\n3 years ago', '@mac1164\\n3 years ago', '@chokeonthis2932\\n3 years ago', '@Zo-hc2fn\\n3 years ago', '@moonrabbit2334\\n3 years ago', '@JustCallMeKimber\\n3 years ago', '@Hiro-se6ie\\n3 years ago', '@JohnWick-tc1xy\\n3 years ago', '@titanmaster-2441\\n3 years ago', '@SamChimesProductions\\n3 years ago', '@ragilmalik\\n3 years ago', '@khalifansari5117\\n3 years ago', '@kopiflores5407\\n3 years ago', '@user-mo2xp9wb1u\\n3 years ago', '@montikan6751\\n3 years ago', '@MS-st1zb\\n3 years ago', '@Abhi6x9\\n3 years ago', '@dorothykelly8924\\n3 years ago', '@moosman3527\\n3 years ago', '@APEch13\\n3 years ago', '@tama-a-tumatauengahiku3647\\n3 years ago', '@patriciakeine8798\\n3 years ago', '@barbarnyak\\n3 years ago', '@veerendrasingh1670\\n3 years ago', '@VectorOfKnowledge\\n3 years ago', '@Nimasherpa143\\n3 years ago', '@komalpanchal2125\\n3 years ago', '@crit19871\\n3 years ago', '@15anshulkumar\\n3 years ago', '@tahah.babikir7698\\n3 years ago', '@15anshulkumar\\n3 years ago', '@sardcanada2640\\n3 years ago', '@ashutoshsingh166\\n3 years ago', '@15anshulkumar\\n3 years ago', '@dmc31405\\n3 years ago', '@daltongrim8408\\n3 years ago', '@chaboyaddy7130\\n3 years ago', '@IlakuAnime777\\n3 years ago', '@rajeshrajesh-sn3op\\n3 years ago', '@bboyt2\\n3 years ago', '@mohit_panjwani\\n3 years ago', '@musicartist1\\n3 years ago', '@gautamashtaman4493\\n3 years ago', '@justrydin7231\\n3 years ago', '@rosadentist\\n3 years ago', '@disneylife4715\\n3 years ago', '@soumyaranjanpanda3030\\n3 years ago', '@WhiteUnicorn82\\n3 years ago', '@WhiteUnicorn82\\n3 years ago', '@WhiteUnicorn82\\n3 years ago', '@WhiteUnicorn82\\n3 years ago', '@Kevin-jc1fx\\n2 years ago', '@bingsi8134\\n2 years ago', '@Kevin-jc1fx\\n2 years ago', '@kaylae3661\\n2 years ago', '@jackfortune4447\\n2 years ago', '@waynesetiawan2794\\n2 years ago', '@waynesetiawan2794\\n2 years ago', '@vashistsharma6698\\n2 years ago', '@sige7\\n2 years ago', '@dapepepe\\n2 years ago', '@aldo321\\n2 years ago', '@uncapabrew4807\\n2 years ago', '@uncapabrew4807\\n2 years ago', '@dorazulay159\\n2 years ago', '@polpol1005\\n2 years ago', '@Frankster86\\n2 years ago', '@vasilikikafourou8624\\n2 years ago', '@debbiedeering4385\\n2 years ago', '@akhil4147\\n2 years ago', '@um-bu3mk\\n2 years ago', '@sumitpanda9289\\n2 years ago', '@yuldashevadham7389\\n2 years ago', '@SA100\\n2 years ago', '@jaku3191\\n2 years ago', '@kathiefenton7815\\n2 years ago', '@kathiefenton7815\\n2 years ago', '@kathiefenton7815\\n2 years ago', '@eldoolittle\\n2 years ago', '@Tanishqbruhhh.08\\n2 years ago', '@anactualloaf8134\\n2 years ago', '@bhabok20\\n2 years ago', '@anactualloaf8134\\n2 years ago', '@vicariously143\\n2 years ago', '@martatavera5262\\n2 years ago', '@dillonfretton2101\\n1 year ago', '@Celinah\\n3 years ago (edited)', '@mehbobpasha7716\\n3 years ago', '@satanclaus1285\\n3 years ago', '@Celinah\\n3 years ago', '@satanclaus1285\\n3 years ago', '@ummesalma1037\\n3 years ago', '@Andi-ls5yd\\n3 years ago (edited)', '@betterfly7398\\n3 years ago', '@betterfly7398\\n3 years ago', '@robertblack92\\n3 years ago', '@Celinah\\n3 years ago (edited)', '@tigressnsnow\\n3 years ago', '@tigressnsnow\\n3 years ago', '@tigressnsnow\\n3 years ago', '@satanclaus1285\\n3 years ago', '@Celinah\\n3 years ago', '@Celinah\\n3 years ago', '@frankturner1859\\n3 years ago', '@wadlet3380\\n3 years ago', '@satanclaus1285\\n3 years ago', '@wadlet3380\\n3 years ago', '@Celinah\\n3 years ago', '@muskankumari1103\\n3 years ago', '@Celinah\\n3 years ago', '@timmagaling\\n3 years ago', '@Celinah\\n3 years ago', '@satanclaus1285\\n3 years ago', '@satanclaus1285\\n3 years ago', '@infinityresourcegroupinc.1314\\n2 years ago', '@beriwwan\\n2 years ago', '@ryanhughes1101\\n5 years ago (edited)', '@wingywu4283\\n5 years ago', '@RemirexPL\\n5 years ago (edited)', '@stevethea5250\\n5 years ago', '@jordancox8294\\n5 years ago', '@santhiaroya7480\\n5 years ago', '@amukelanimanganyi8554\\n5 years ago', '@jiaweidu5358\\n5 years ago', '@erenjeager2003\\n5 years ago', '@yuvrajdhillon1036\\n5 years ago', '@jeremysnowden2836\\n5 years ago', '@marys661\\n5 years ago', '@ilmselge\\n5 years ago', '@hospitalplaylistspecials66\\n5 years ago', '@SycosenMerihem\\n5 years ago', '@adrianaadnan7704\\n5 years ago', '@rotagilla1596\\n4 years ago', '@explor794\\n4 years ago', '@jeremyfischer123\\n4 years ago', '@paytonlee5629\\n4 years ago', '@MCRB77\\n4 years ago', '@klausk9225\\n4 years ago', '@observer886\\n4 years ago', '@klausk9225\\n4 years ago', '@trungnguyenhoang6821\\n4 years ago', '@ashith1297\\n3 years ago (edited)', '@TM-xz1mi\\n3 years ago', '@ashith1297\\n3 years ago', '@harshnair7126\\n3 years ago', '@ashith1297\\n3 years ago', '@harshnair7126\\n3 years ago', '@ashith1297\\n3 years ago (edited)', '@harshnair7126\\n3 years ago', '@awfully.average\\n3 years ago', '@comrade_elum\\n3 years ago', '@keenhgod\\n3 years ago (edited)', '@sureshbashaveni6216\\n1 year ago', '@user-vl6sb7qo8l\\n1 year ago', '@milkman2266\\n6 years ago', '@ADerpyReality\\n6 years ago', '@REDPotriats757\\n6 years ago', '@yunusap\\n6 years ago', '@Cerbyo\\n6 years ago', '@rospincasocl3741\\n6 years ago', '@bleach203\\n6 years ago', '@JT-dl2cc\\n6 years ago', '@roymaitland\\n6 years ago', '@victorseal9047\\n6 years ago', '@MaximumEfficiency\\n6 years ago', '@victorseal9047\\n6 years ago', '@barahng\\n6 years ago (edited)', '@MaximumEfficiency\\n6 years ago', '@victorseal9047\\n6 years ago', '@walterhenriques6844\\n6 years ago', '@rayonasimmons2615\\n6 years ago', '@rhithym\\n7 years ago', '@kej4161\\n1 year ago', '@yungsookevinhong7943\\n1 year ago', '@bruceliao9546\\n3 years ago', '@casparzwart1987\\n3 years ago', '@yelllowjacket1756\\n3 years ago', '@thomassoares5844\\n3 years ago', '@Arun-st2cv\\n3 years ago', '@statusstar1823\\n3 years ago', '@bezahmugera9671\\n3 years ago', '@TRICITYTRASHOUTS\\n3 years ago', '@comradekarlvonschnitzelste8218\\n3 years ago', '@comradekarlvonschnitzelste8218\\n3 years ago', '@danielmoore4024\\n3 years ago (edited)', '@comradekarlvonschnitzelste8218\\n3 years ago', '@comradekarlvonschnitzelste8218\\n3 years ago', '@comradekarlvonschnitzelste8218\\n3 years ago', '@casparzwart1987\\n3 years ago (edited)', '@chiachiyang4680\\n3 years ago', '@andredube680\\n3 years ago', '@andredube680\\n3 years ago', '@andredube680\\n3 years ago', '@simonwalker2460\\n3 years ago', '@elsievaenz9531\\n3 years ago', '@anamikakumari6001\\n3 years ago', '@dilaraozcan6363\\n3 years ago', '@anujshukla5847\\n3 years ago', '@simonwalker2460\\n3 years ago', '@anujshukla5847\\n3 years ago', '@simonwalker2460\\n3 years ago', '@liewkahmeng8459\\n3 years ago', '@liewkahmeng8459\\n3 years ago', '@anujshukla5847\\n3 years ago', '@liewkahmeng8459\\n3 years ago', '@anujshukla5847\\n3 years ago', '@janaamrengechel4240\\n3 years ago (edited)', '@jimbean6934\\n3 years ago', '@Cookie-ri9pz\\n2 years ago', '@ramzeystech9289\\n2 years ago', '@wilfredosoto4635\\n4 years ago', '@BadalKumar-pi7ud\\n4 years ago', '@tarunnathani8499\\n4 years ago', '@tarunnathani8499\\n4 years ago', '@JayR-ct8pv\\n4 years ago', '@ondrejspilko9768\\n4 years ago', '@tashagimera\\n5 months ago', '@lily_ebt\\n1 year ago', '@emmanuelmacha5603\\n5 years ago', '@thiagofaleiroparente\\n5 years ago', '@levihuerta9393\\n5 years ago', '@levihuerta9393\\n5 years ago', '@riverkelty8214\\n5 years ago', '@Charlie-mi7ol\\n4 years ago', '@golkeeper8517\\n4 years ago', '@robynabrahams6817\\n4 years ago', '@golkeeper8517\\n4 years ago', '@ZachariahMBaird\\n4 years ago', '@OnePiece-os3pe\\n4 years ago', '@ZachariahMBaird\\n4 years ago', '@Vertutame\\n4 years ago', '@joringedamke5597\\n4 years ago', '@bigvlogger2940\\n4 years ago', '@Richixx98\\n4 years ago', '@danielcastillo5651\\n4 years ago', '@thenerdnetwork\\n4 years ago', '@cookieeater7713\\n4 years ago', '@yt-sh\\n4 years ago (edited)', '@abcdxx1059\\n4 years ago', '@yt-sh\\n4 years ago', '@tuckertooley174\\n4 years ago', '@Benjamin-ii3ke\\n4 years ago', '@harrisonglaude5335\\n4 years ago', '@BaelaLuv\\n4 years ago', '@BaelaLuv\\n4 years ago', '@abcdxx1059\\n4 years ago', '@winterblue8887\\n4 years ago', '@attilatormasi1733\\n4 years ago', '@captainvoluntaryistthestat3207\\n4 years ago', '@hordearii4646\\n4 years ago', '@DareDevilPhil\\n4 years ago', '@thenerdnetwork\\n4 years ago', '@fbn7766\\n4 years ago', '@ethanduncan157\\n4 years ago', '@yt-sh\\n3 years ago (edited)', '@yt-sh\\n3 years ago (edited)', '@Bill0102\\n6 months ago', '@garywellings2281\\n1 year ago', '@enzov9772\\n7 years ago', '@solomonarbc\\n7 years ago', '@bape7824\\n7 years ago', '@solomonarbc\\n7 years ago', '@roloug95\\n7 years ago', '@Moikee64\\n7 years ago', '@novathemagus3740\\n7 years ago', '@cheesymn7779\\n6 years ago', '@AxelBrass\\n6 years ago (edited)', '@unrue1048\\n4 years ago', '@henryyin2471\\n4 years ago', '@thesreesankar\\n4 years ago', '@azaka3720\\n4 years ago (edited)', '@yungsookevinhong7943\\n1 year ago', '@townproperty6732\\n2 years ago (edited)', '@sahilhanda6543\\n7 years ago (edited)', '@troycambo\\n7 years ago', '@brendarua01\\n7 years ago', '@liamfris256\\n7 years ago', '@RLuka0302\\n7 years ago', '@Appletank8\\n7 years ago', '@lukethegiant5193\\n7 years ago', '@wecomeinpeace1989\\n7 years ago', '@garygoggin\\n7 years ago', '@abhinavcj1\\n7 years ago', '@elsabassi2533\\n7 years ago', '@Daedhart\\n7 years ago', '@wecomeinpeace1989\\n7 years ago', '@AetherXIV\\n7 years ago', '@CrowClouds\\n7 years ago', '@NataschaYT\\n7 years ago', '@y__h\\n7 years ago', '@bradley081\\n7 years ago', '@battleritegods5191\\n7 years ago', '@petlahk4119\\n7 years ago', '@dukeempath1639\\n7 years ago', '@alengm\\n7 years ago', '@mrsinn2642\\n7 years ago', '@someoneelse293\\n7 years ago', '@crazymohawk86\\n7 years ago', '@kpbuzz\\n7 years ago', '@damienvanhoogenvan5111\\n7 years ago', '@someoneelse293\\n7 years ago', '@someoneelse293\\n7 years ago', '@damienvanhoogenvan5111\\n7 years ago', '@someoneelse293\\n7 years ago (edited)', '@someoneelse293\\n7 years ago', '@realmaco1503\\n7 years ago', '@Reazintful\\n7 years ago (edited)', '@johnnytindallful\\n7 years ago', '@veryastudio4169\\n7 years ago', '@Reazintful\\n7 years ago (edited)', '@MrGriff305\\n7 years ago', '@MrBoifloyd\\n7 years ago', '@Reazintful\\n7 years ago (edited)', '@3Sphere\\n7 years ago', '@spectrum503\\n7 years ago', '@ryanball4416\\n7 years ago', '@rajasekharannair8216\\n2 years ago', '@moth5799\\n1 year ago', '@sige7\\n1 year ago', '@iche9373\\n1 year ago', '@bucolicberyllium2717\\n1 year ago', '@youwotmate715\\n7 years ago', '@JuancharroVlogs\\n6 years ago', '@JohnDoeTheGoodGuy\\n6 years ago', '@mcgrablediwan9587\\n6 years ago (edited)', '@Apexbossman\\n6 years ago', '@Reubentheimitator6572\\n6 years ago', '@Ankudamurderer\\n6 years ago', '@dingbop963\\n2 years ago', '@ashercheng1556\\n2 years ago', '@ashercheng1556\\n2 years ago', '@ivonned32\\n2 years ago', '@iche9373\\n1 year ago', '@user-kz3sz6in8f\\n2 years ago', '@sayedyasirbarez6769\\n4 months ago', '@avinashtiwari922\\n3 years ago', '@ProMrLecoq01\\n3 years ago (edited)', '@mehbobpasha7716\\n3 years ago', '@cosmic2750\\n3 years ago', '@SaWYaMS\\n3 years ago', '@andrewkalaani424\\n3 years ago', '@SaWYaMS\\n3 years ago', '@victorclabaugh1373\\n3 years ago', '@cosmic2750\\n3 years ago', '@MohsinAli-jt5rk\\n3 years ago', '@cosmic2750\\n3 years ago', '@cosmic2750\\n3 years ago', '@cosmic2750\\n3 years ago', '@cosmic2750\\n3 years ago', '@SaWYaMS\\n3 years ago', '@cosmic2750\\n3 years ago', '@cosmic2750\\n3 years ago', '@waynebeaver4096\\n3 years ago', '@JJ-pz3td\\n3 years ago', '@hippodoesyes6475\\n3 years ago', '@abnormalynn7885\\n3 years ago', '@abnormalynn7885\\n3 years ago', '@cosmic2750\\n3 years ago', '@abnormalynn7885\\n3 years ago', '@cosmic2750\\n3 years ago', '@cosmic2750\\n3 years ago (edited)', '@patriotkieler9750\\n2 years ago', '@MadeWidy\\n1 year ago', '@edv5752\\n7 years ago', '@Mikolaj_Kapusta\\n6 years ago', '@hasankhan1\\n6 years ago', '@cherrypichick6782\\n6 years ago', '@justinbrown7254\\n6 years ago', '@ethean94\\n6 years ago', '@Beesechurger42069\\n6 years ago', '@ethean94\\n6 years ago', '@calebwarren5841\\n6 years ago', '@ilvaphoto\\n6 years ago', '@paulmichaelfreedman8334\\n6 years ago', '@paulmichaelfreedman8334\\n6 years ago', '@Rouwh\\n6 years ago', '@gisellealdapa1606\\n6 years ago', '@TsetsiStoyanova\\n3 years ago', '@antoniowebmaster9383\\n3 years ago', '@purifiedh2027\\n3 years ago (edited)', '@christianpaul-cp6746\\n3 years ago', '@soneone5525\\n3 years ago', '@Subw00frr\\n3 years ago', '@rosildalima610\\n3 years ago', '@krystalklear7793\\n3 years ago', '@charlesdrawing1808\\n3 years ago', '@judith2924\\n3 years ago', '@dailyfuturetrades4998\\n3 years ago', '@pvp214\\n3 years ago', '@gh0stbasil655\\n3 years ago', '@jefflindeman\\n3 years ago', '@artistscientist2848\\n3 years ago', '@martincruz3295\\n3 years ago', '@artistscientist2848\\n3 years ago', '@amber_guitar\\n3 years ago', '@joyhouse5934\\n3 years ago (edited)', '@silver_bowling\\n1 year ago', '@Moyjed\\n2 months ago', '@Scrinch_stole_schristmas\\n5 years ago', '@pfanombedzi8158\\n5 years ago', '@poetsrear\\n5 years ago', '@seasonedgore7231\\n5 years ago', '@liamcurran5612\\n5 years ago', '@KJ99otis\\n4 years ago', '@NoName-wc4qr\\n4 years ago', '@betaman2009\\n4 years ago', '@unRheal\\n4 years ago', '@natsoph1924\\n4 years ago', '@unRheal\\n4 years ago (edited)', '@mlc4495\\n4 years ago', '@PrettiBoiMicah\\n4 years ago', '@user-fg7xt1uc1i\\n10 months ago', '@gabrielrispoli359\\n1 year ago', '@AnuragGupta2410\\n7 years ago', '@shukracharya_\\n7 years ago', '@spectrum503\\n7 years ago', '@koditv9215\\n4 years ago', '@drilla2671\\n4 years ago', '@utimateamvs1873\\n4 years ago (edited)', '@DukeEllision329\\n4 years ago', '@Smokeymcpot713\\n4 years ago', '@patricializarazo4081\\n4 years ago', '@Smokeymcpot713\\n4 years ago', '@DukeEllision329\\n4 years ago', '@genuinelearner4227\\n1 year ago (edited)', '@danieleaguiar6332\\n1 year ago', '@SableSunsets\\n4 years ago', '@PrettiBoiMicah\\n4 years ago', '@pashgetti7573\\n4 years ago', '@user-he2qm4iq5i\\n4 years ago', '@SpeedSeekerMoto\\n4 years ago', '@dominicabdal9907\\n4 years ago', '@spiralsun1\\n4 years ago', '@user-he2qm4iq5i\\n4 years ago (edited)', '@stefamart7\\n4 years ago', '@karthiklol99831\\n4 years ago', '@user-he2qm4iq5i\\n4 years ago (edited)', '@karthiklol99831\\n4 years ago', '@cornelesmokodompit1683\\n4 years ago', '@randalllopez7\\n4 years ago', '@hetsekhalia5942\\n4 years ago', '@user-he2qm4iq5i\\n4 years ago (edited)', '@no-gracias9863\\n4 years ago', '@user-he2qm4iq5i\\n4 years ago', '@no-gracias9863\\n4 years ago', '@Leo9ine\\n4 years ago', '@mikedaskalakis5006\\n4 years ago', '@princesagar7736\\n4 years ago', '@datavalisofficial8730\\n4 years ago', '@user-jn4fn9od7u\\n4 years ago', '@stepansynek9329\\n4 years ago (edited)', '@juanitakeziah3876\\n4 years ago', '@robotec0007\\n4 years ago', '@hannah8719\\n4 years ago', '@thatguyjd14\\n4 years ago', '@abdullahs7256\\n4 years ago', '@Wontonssbu\\n4 years ago (edited)', '@tomasparaiso2766\\n4 years ago', '@MirkoskjiVero\\n4 years ago', '@Darko1.0\\n4 years ago', '@Darko1.0\\n4 years ago', '@Darko1.0\\n4 years ago', '@miniatureben3558\\n4 years ago', '@jeanna7851\\n4 years ago', '@jeanna7851\\n4 years ago (edited)', '@jeanna7851\\n4 years ago', '@jeanna7851\\n4 years ago', '@jeanna7851\\n4 years ago', '@jeanna7851\\n4 years ago', '@jeanna7851\\n4 years ago', '@Leotique\\n4 years ago', '@Wontonssbu\\n4 years ago', '@sleeplessrobot9398\\n4 years ago', '@puneetbeniwal9334\\n4 years ago', '@futureselftherapy\\n4 years ago', '@beamerUSA\\n4 years ago', '@Vuadanee\\n4 years ago', '@SpeedSeekerMoto\\n4 years ago', '@flavio7180\\n4 years ago', '@flavio7180\\n4 years ago', '@shotototoroki6169\\n4 years ago', '@tani4310\\n4 years ago', '@williams4340\\n3 years ago', '@bluewinterwolf\\n3 years ago', '@shivikamal\\n3 years ago', '@megumin5762\\n3 years ago', '@derekli8957\\n3 years ago', '@magnusdamborg6568\\n3 years ago', '@supersuit5790\\n3 years ago', '@user-he2qm4iq5i\\n3 years ago', '@user-he2qm4iq5i\\n3 years ago', '@ridethattrail9502\\n3 years ago', '@musicg1696\\n3 years ago', '@sithsaiyan4529\\n3 years ago', '@KillerTacoLikesTacosALot\\n3 years ago', '@sphynxisjah\\n3 years ago', '@nakedinthecityagain\\n3 years ago', '@ccavempt\\n3 years ago', '@km8..\\n3 years ago', '@joedunphy5064\\n3 years ago', '@pillowrabbit8324\\n3 years ago', '@khattakzindabad\\n3 years ago', '@aejbermensch4932\\n3 years ago', '@obaidulhaquesakki5700\\n3 years ago', '@xaexeer7429\\n3 years ago', '@sathyapilai4537\\n3 years ago', '@mickhaos239\\n3 years ago', '@jeanna7851\\n3 years ago', '@melodylee7628\\n5 months ago', '@Nicolelie123\\n1 year ago', '@arifulislamleeton\\n1 year ago', '@kameloran2772\\n5 years ago', '@leeroychavezjr\\n5 years ago', '@WintyGambles\\n5 years ago', '@sriampojwalam4907\\n5 years ago', '@classyalien9722\\n5 years ago', '@luke-fh9gf\\n5 years ago', '@franciscofonseca8126\\n3 years ago', '@yoobin3207\\n3 years ago', '@barbaraconnett5057\\n2 years ago', '@user-kt5jo9im2x\\n10 months ago', '@ElonMusk-hc1ls\\n10 months ago', '@NerdsPlayhouse\\n4 years ago', '@claudinelogrado\\n5 years ago (edited)', '@juanabosch7827\\n7 months ago', '@LauraLevensonMusk\\n3 months ago', '@fahadbhutta3164\\n6 years ago', '@CookieClicker3\\n4 years ago', '@neidehelenamorais9190\\n2 months ago', '@Letsbefriends88\\n1 year ago', '@AZCaveMan480\\n7 years ago', '@pankaj71\\n2 years ago', '@josephlee8785\\n8 months ago', '@pollywelch631\\n1 year ago', '@thurein7667\\n4 years ago', '@SoumilSahu\\n4 years ago', '@ElderEleryDavidChampion-th9lt\\n1 year ago', '@drijazdurrani\\n1 year ago', '@1Lex17\\n4 years ago', '@paxtongray3462\\n6 years ago', '@pcm.43441\\n2 years ago', '@bceebro1344\\n1 year ago']\n"
     ]
    }
   ],
   "source": [
    "# Get user names\n",
    "users = []\n",
    "find = driver.find_elements(By.XPATH,\"//div[@id='header-author'][@class='style-scope ytd-comment-view-model']\")\n",
    "\n",
    "for user_name in find:\n",
    "        users.append(user_name.text)\n",
    "\n",
    "print(users)"
   ]
  },
  {
   "cell_type": "code",
   "execution_count": 72,
   "id": "bddc228b",
   "metadata": {},
   "outputs": [],
   "source": [
    "# Get users and time stamp\n",
    "users_clean = []\n",
    "time_stamp = []\n",
    "for user in users:\n",
    "    if user != \"\":\n",
    "        try:\n",
    "            this_ts = user.split('\\n')[1]\n",
    "            this_user = user.split('\\n')[0]\n",
    "        except:\n",
    "            this_ts = user.split('\\n')[0]\n",
    "            this_user = \"\"\n",
    "\n",
    "        users_clean.append(this_user) \n",
    "        time_stamp.append(this_ts)"
   ]
  },
  {
   "cell_type": "code",
   "execution_count": 73,
   "id": "4f4ec626",
   "metadata": {},
   "outputs": [],
   "source": [
    "# Get Comments\n",
    "comments = []\n",
    "\n",
    "# Get comment caption\n",
    "find = driver.find_elements(By.XPATH,\"//span[@class='yt-core-attributed-string yt-core-attributed-string--white-space-pre-wrap'][@dir='auto']\")\n",
    "for comment in find:\n",
    "    comments.append(comment.text)"
   ]
  },
  {
   "cell_type": "code",
   "execution_count": 74,
   "id": "184e0008",
   "metadata": {},
   "outputs": [],
   "source": [
    "# Remove \\n strings to avoid wrong display in output\n",
    "comments_cleaned = []\n",
    "for cmt in comments[2:-1]:\n",
    "    clean_cmt = cmt.replace(\"\\n\",\"\") #--> replace \\n by whitespace\n",
    "    clean_cmt.strip(\" \") #--> remove unncessary whitespaces\n",
    "    comments_cleaned.append(clean_cmt)"
   ]
  },
  {
   "cell_type": "code",
   "execution_count": 75,
   "id": "f53917cf",
   "metadata": {},
   "outputs": [],
   "source": [
    "# Get Likes\n",
    "likes = []\n",
    "\n",
    "find = driver.find_elements(By.XPATH,\"//span[@id='vote-count-middle'][@class='style-scope ytd-comment-engagement-bar']\")\n",
    "for like in find:\n",
    "    likes.append(like.text)"
   ]
  },
  {
   "cell_type": "code",
   "execution_count": 76,
   "id": "3fd7ea04",
   "metadata": {},
   "outputs": [
    {
     "name": "stdout",
     "output_type": "stream",
     "text": [
      "How many elements of each category were scraped:\n",
      "Number of Comments: 2873\n",
      "Number of Timestamps: 2873\n",
      "Number of Users: 2873\n",
      "Number of Likes: 2873\n"
     ]
    }
   ],
   "source": [
    "print(\"How many elements of each category were scraped:\")\n",
    "print(f\"Number of Comments: {len(comments_cleaned)}\")\n",
    "print(f\"Number of Timestamps: {len(time_stamp)}\")\n",
    "print(f\"Number of Users: {len(users)}\")\n",
    "print(f\"Number of Likes: {len(likes)}\")"
   ]
  },
  {
   "cell_type": "markdown",
   "id": "06f87025",
   "metadata": {},
   "source": [
    "# Storing the data"
   ]
  },
  {
   "cell_type": "code",
   "execution_count": 77,
   "id": "2ae7143b",
   "metadata": {},
   "outputs": [
    {
     "name": "stdout",
     "output_type": "stream",
     "text": [
      "                   User                                            Comment  \\\n",
      "0          @raedjah6417                                                      \n",
      "1              @jg63776     I like how he always says “we” . A real leader   \n",
      "2     @thatguynicky1979                              Communism intensifies   \n",
      "3         @ibeezisi3847  We, as in ALL of the geniuses and innovators h...   \n",
      "4           @leyren2606  Very good observation! I hope to imbibe that m...   \n",
      "...                 ...                                                ...   \n",
      "2868     @drijazdurrani  You need to build flood mitigation measures th...   \n",
      "2869            @1Lex17  \"Think of the Future and Don't be SAD\"  is a  ...   \n",
      "2870    @paxtongray3462  I'm more shocked that people don't expect us t...   \n",
      "2871         @pcm.43441  \"I'm not trying to be anyone's savior\" Is huma...   \n",
      "2872       @bceebro1344                       My inspiration is Elone Musk   \n",
      "\n",
      "                      Time Likes  \n",
      "0              4 years ago  4.6K  \n",
      "1              4 years ago   171  \n",
      "2              4 years ago   101  \n",
      "3              4 years ago    12  \n",
      "4     4 years ago (edited)    32  \n",
      "...                    ...   ...  \n",
      "2868            1 year ago    10  \n",
      "2869           4 years ago   552  \n",
      "2870           6 years ago   657  \n",
      "2871           2 years ago     1  \n",
      "2872            1 year ago        \n",
      "\n",
      "[2873 rows x 4 columns]\n"
     ]
    }
   ],
   "source": [
    "# Ensure all lists have the same length\n",
    "def adjust_length(lst, target_length):\n",
    "    return lst[:target_length] if len(lst) > target_length else lst + [None] * (target_length - len(lst))\n",
    "\n",
    "# Use the minimum length of the lists to ensure all are equal length\n",
    "target_length = min(len(users_clean), len(comments_cleaned), len(time_stamp), len(likes))\n",
    "\n",
    "users_clean = adjust_length(users_clean, target_length)\n",
    "comments_cleaned = adjust_length(comments_cleaned, target_length)\n",
    "time_stamp = adjust_length(time_stamp, target_length)\n",
    "likes = adjust_length(likes, target_length)\n",
    "\n",
    "# Store DataFrame\n",
    "data = {'User': users_clean, 'Comment': comments_cleaned, 'Time': time_stamp, 'Likes': likes}\n",
    "df = pd.DataFrame(data)\n",
    "print(df)"
   ]
  },
  {
   "cell_type": "code",
   "execution_count": 78,
   "id": "6fa7e47c",
   "metadata": {},
   "outputs": [],
   "source": [
    "# Save info to csv file\n",
    "df.to_csv('./data/elon_comments.csv', index=False, encoding='utf-8', sep = \";\")"
   ]
  }
 ],
 "metadata": {
  "kernelspec": {
   "display_name": "Python 3 (ipykernel)",
   "language": "python",
   "name": "python3"
  },
  "language_info": {
   "codemirror_mode": {
    "name": "ipython",
    "version": 3
   },
   "file_extension": ".py",
   "mimetype": "text/x-python",
   "name": "python",
   "nbconvert_exporter": "python",
   "pygments_lexer": "ipython3",
   "version": "3.12.2"
  }
 },
 "nbformat": 4,
 "nbformat_minor": 5
}
